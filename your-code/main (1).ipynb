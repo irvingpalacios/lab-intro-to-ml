{
 "cells": [
  {
   "cell_type": "code",
   "execution_count": 1,
   "metadata": {
    "colab": {
     "base_uri": "https://localhost:8080/"
    },
    "executionInfo": {
     "elapsed": 29433,
     "status": "ok",
     "timestamp": 1627394596282,
     "user": {
      "displayName": "irving palacios",
      "photoUrl": "https://lh3.googleusercontent.com/a-/AOh14Gjw6M4LpzTUVro1G-5_aqYZYQhXb8NkvR-4cdiB=s64",
      "userId": "06814234566595318222"
     },
     "user_tz": 300
    },
    "id": "kJQXsYwW8s60",
    "outputId": "ed8bba0c-65fe-44c5-d89c-2ba39f872f41"
   },
   "outputs": [
    {
     "name": "stdout",
     "output_type": "stream",
     "text": [
      "Mounted at /content/drive\n"
     ]
    }
   ],
   "source": [
    "from google.colab import drive\n",
    "drive.mount('/content/drive')"
   ]
  },
  {
   "cell_type": "markdown",
   "metadata": {
    "id": "bM1uFeuft-_0"
   },
   "source": [
    "# Before your start:\n",
    "- Read the README.md file\n",
    "- Comment as much as you can and use the resources in the README.md file\n",
    "- Happy learning!"
   ]
  },
  {
   "cell_type": "code",
   "execution_count": 2,
   "metadata": {
    "executionInfo": {
     "elapsed": 244,
     "status": "ok",
     "timestamp": 1627401525385,
     "user": {
      "displayName": "irving palacios",
      "photoUrl": "https://lh3.googleusercontent.com/a-/AOh14Gjw6M4LpzTUVro1G-5_aqYZYQhXb8NkvR-4cdiB=s64",
      "userId": "06814234566595318222"
     },
     "user_tz": 300
    },
    "id": "SCqQUQVpt-_0"
   },
   "outputs": [],
   "source": [
    "#Import your libraries\n",
    "\n",
    "import pandas as pd\n",
    "import matplotlib.pyplot as plt\n",
    "import numpy as np\n",
    "from random import sample "
   ]
  },
  {
   "cell_type": "markdown",
   "metadata": {
    "id": "pyPWATWst-_1"
   },
   "source": [
    "\n",
    "# Challenge 1 - Import and Describe the Dataset"
   ]
  },
  {
   "cell_type": "markdown",
   "metadata": {
    "id": "77Op0FwXt-_1"
   },
   "source": [
    "#### In this challenge we will use the `austin_weather.csv` file. \n",
    "\n",
    "#### First import it into a data frame called `austin`."
   ]
  },
  {
   "cell_type": "code",
   "execution_count": 4,
   "metadata": {
    "executionInfo": {
     "elapsed": 377,
     "status": "ok",
     "timestamp": 1627401528701,
     "user": {
      "displayName": "irving palacios",
      "photoUrl": "https://lh3.googleusercontent.com/a-/AOh14Gjw6M4LpzTUVro1G-5_aqYZYQhXb8NkvR-4cdiB=s64",
      "userId": "06814234566595318222"
     },
     "user_tz": 300
    },
    "id": "jvQrSWzqt-_1"
   },
   "outputs": [],
   "source": [
    "# Your code here\n",
    "austin = pd.read_csv('../austin_weather.csv')"
   ]
  },
  {
   "cell_type": "markdown",
   "metadata": {
    "id": "kHpR2DeRt-_2"
   },
   "source": [
    "#### Next, describe the dataset you have loaded: \n",
    "- Look at the variables and their types\n",
    "- Examine the descriptive statistics of the numeric variables \n",
    "- Look at the first five rows of all variables to evaluate the categorical variables as well"
   ]
  },
  {
   "cell_type": "code",
   "execution_count": 5,
   "metadata": {
    "colab": {
     "base_uri": "https://localhost:8080/"
    },
    "executionInfo": {
     "elapsed": 9,
     "status": "ok",
     "timestamp": 1627401529648,
     "user": {
      "displayName": "irving palacios",
      "photoUrl": "https://lh3.googleusercontent.com/a-/AOh14Gjw6M4LpzTUVro1G-5_aqYZYQhXb8NkvR-4cdiB=s64",
      "userId": "06814234566595318222"
     },
     "user_tz": 300
    },
    "id": "YzD9KdZat-_3",
    "outputId": "63b905b2-b4cd-4dce-ad9e-8ea567b899fd"
   },
   "outputs": [
    {
     "name": "stdout",
     "output_type": "stream",
     "text": [
      "<class 'pandas.core.frame.DataFrame'>\n",
      "RangeIndex: 1319 entries, 0 to 1318\n",
      "Data columns (total 21 columns):\n",
      " #   Column                      Non-Null Count  Dtype \n",
      "---  ------                      --------------  ----- \n",
      " 0   Date                        1319 non-null   object\n",
      " 1   TempHighF                   1319 non-null   int64 \n",
      " 2   TempAvgF                    1319 non-null   int64 \n",
      " 3   TempLowF                    1319 non-null   int64 \n",
      " 4   DewPointHighF               1319 non-null   object\n",
      " 5   DewPointAvgF                1319 non-null   object\n",
      " 6   DewPointLowF                1319 non-null   object\n",
      " 7   HumidityHighPercent         1319 non-null   object\n",
      " 8   HumidityAvgPercent          1319 non-null   object\n",
      " 9   HumidityLowPercent          1319 non-null   object\n",
      " 10  SeaLevelPressureHighInches  1319 non-null   object\n",
      " 11  SeaLevelPressureAvgInches   1319 non-null   object\n",
      " 12  SeaLevelPressureLowInches   1319 non-null   object\n",
      " 13  VisibilityHighMiles         1319 non-null   object\n",
      " 14  VisibilityAvgMiles          1319 non-null   object\n",
      " 15  VisibilityLowMiles          1319 non-null   object\n",
      " 16  WindHighMPH                 1319 non-null   object\n",
      " 17  WindAvgMPH                  1319 non-null   object\n",
      " 18  WindGustMPH                 1319 non-null   object\n",
      " 19  PrecipitationSumInches      1319 non-null   object\n",
      " 20  Events                      1319 non-null   object\n",
      "dtypes: int64(3), object(18)\n",
      "memory usage: 216.5+ KB\n"
     ]
    }
   ],
   "source": [
    "# Your code here\n",
    "austin.info()"
   ]
  },
  {
   "cell_type": "code",
   "execution_count": 6,
   "metadata": {
    "colab": {
     "base_uri": "https://localhost:8080/",
     "height": 142
    },
    "executionInfo": {
     "elapsed": 8,
     "status": "ok",
     "timestamp": 1627401529649,
     "user": {
      "displayName": "irving palacios",
      "photoUrl": "https://lh3.googleusercontent.com/a-/AOh14Gjw6M4LpzTUVro1G-5_aqYZYQhXb8NkvR-4cdiB=s64",
      "userId": "06814234566595318222"
     },
     "user_tz": 300
    },
    "id": "7zPSEzNnt-_3",
    "outputId": "4c3ed7a2-2c76-46ac-bded-6b6121b34bfb"
   },
   "outputs": [
    {
     "data": {
      "text/html": [
       "<div>\n",
       "<style scoped>\n",
       "    .dataframe tbody tr th:only-of-type {\n",
       "        vertical-align: middle;\n",
       "    }\n",
       "\n",
       "    .dataframe tbody tr th {\n",
       "        vertical-align: top;\n",
       "    }\n",
       "\n",
       "    .dataframe thead th {\n",
       "        text-align: right;\n",
       "    }\n",
       "</style>\n",
       "<table border=\"1\" class=\"dataframe\">\n",
       "  <thead>\n",
       "    <tr style=\"text-align: right;\">\n",
       "      <th></th>\n",
       "      <th>count</th>\n",
       "      <th>mean</th>\n",
       "      <th>std</th>\n",
       "      <th>min</th>\n",
       "      <th>25%</th>\n",
       "      <th>50%</th>\n",
       "      <th>75%</th>\n",
       "      <th>max</th>\n",
       "    </tr>\n",
       "  </thead>\n",
       "  <tbody>\n",
       "    <tr>\n",
       "      <th>TempHighF</th>\n",
       "      <td>1319.0</td>\n",
       "      <td>80.862775</td>\n",
       "      <td>14.766523</td>\n",
       "      <td>32.0</td>\n",
       "      <td>72.0</td>\n",
       "      <td>83.0</td>\n",
       "      <td>92.0</td>\n",
       "      <td>107.0</td>\n",
       "    </tr>\n",
       "    <tr>\n",
       "      <th>TempAvgF</th>\n",
       "      <td>1319.0</td>\n",
       "      <td>70.642911</td>\n",
       "      <td>14.045904</td>\n",
       "      <td>29.0</td>\n",
       "      <td>62.0</td>\n",
       "      <td>73.0</td>\n",
       "      <td>83.0</td>\n",
       "      <td>93.0</td>\n",
       "    </tr>\n",
       "    <tr>\n",
       "      <th>TempLowF</th>\n",
       "      <td>1319.0</td>\n",
       "      <td>59.902957</td>\n",
       "      <td>14.190648</td>\n",
       "      <td>19.0</td>\n",
       "      <td>49.0</td>\n",
       "      <td>63.0</td>\n",
       "      <td>73.0</td>\n",
       "      <td>81.0</td>\n",
       "    </tr>\n",
       "  </tbody>\n",
       "</table>\n",
       "</div>"
      ],
      "text/plain": [
       "            count       mean        std   min   25%   50%   75%    max\n",
       "TempHighF  1319.0  80.862775  14.766523  32.0  72.0  83.0  92.0  107.0\n",
       "TempAvgF   1319.0  70.642911  14.045904  29.0  62.0  73.0  83.0   93.0\n",
       "TempLowF   1319.0  59.902957  14.190648  19.0  49.0  63.0  73.0   81.0"
      ]
     },
     "execution_count": 6,
     "metadata": {},
     "output_type": "execute_result"
    }
   ],
   "source": [
    "# Your code here\n",
    "austin.describe().T"
   ]
  },
  {
   "cell_type": "code",
   "execution_count": 7,
   "metadata": {
    "colab": {
     "base_uri": "https://localhost:8080/",
     "height": 309
    },
    "executionInfo": {
     "elapsed": 3,
     "status": "ok",
     "timestamp": 1627401530848,
     "user": {
      "displayName": "irving palacios",
      "photoUrl": "https://lh3.googleusercontent.com/a-/AOh14Gjw6M4LpzTUVro1G-5_aqYZYQhXb8NkvR-4cdiB=s64",
      "userId": "06814234566595318222"
     },
     "user_tz": 300
    },
    "id": "8eA1KNeKt-_3",
    "outputId": "03012a0d-0135-4e06-d06f-2142ceb3010f"
   },
   "outputs": [
    {
     "data": {
      "text/html": [
       "<div>\n",
       "<style scoped>\n",
       "    .dataframe tbody tr th:only-of-type {\n",
       "        vertical-align: middle;\n",
       "    }\n",
       "\n",
       "    .dataframe tbody tr th {\n",
       "        vertical-align: top;\n",
       "    }\n",
       "\n",
       "    .dataframe thead th {\n",
       "        text-align: right;\n",
       "    }\n",
       "</style>\n",
       "<table border=\"1\" class=\"dataframe\">\n",
       "  <thead>\n",
       "    <tr style=\"text-align: right;\">\n",
       "      <th></th>\n",
       "      <th>Date</th>\n",
       "      <th>TempHighF</th>\n",
       "      <th>TempAvgF</th>\n",
       "      <th>TempLowF</th>\n",
       "      <th>DewPointHighF</th>\n",
       "      <th>DewPointAvgF</th>\n",
       "      <th>DewPointLowF</th>\n",
       "      <th>HumidityHighPercent</th>\n",
       "      <th>HumidityAvgPercent</th>\n",
       "      <th>HumidityLowPercent</th>\n",
       "      <th>...</th>\n",
       "      <th>SeaLevelPressureAvgInches</th>\n",
       "      <th>SeaLevelPressureLowInches</th>\n",
       "      <th>VisibilityHighMiles</th>\n",
       "      <th>VisibilityAvgMiles</th>\n",
       "      <th>VisibilityLowMiles</th>\n",
       "      <th>WindHighMPH</th>\n",
       "      <th>WindAvgMPH</th>\n",
       "      <th>WindGustMPH</th>\n",
       "      <th>PrecipitationSumInches</th>\n",
       "      <th>Events</th>\n",
       "    </tr>\n",
       "  </thead>\n",
       "  <tbody>\n",
       "    <tr>\n",
       "      <th>0</th>\n",
       "      <td>2013-12-21</td>\n",
       "      <td>74</td>\n",
       "      <td>60</td>\n",
       "      <td>45</td>\n",
       "      <td>67</td>\n",
       "      <td>49</td>\n",
       "      <td>43</td>\n",
       "      <td>93</td>\n",
       "      <td>75</td>\n",
       "      <td>57</td>\n",
       "      <td>...</td>\n",
       "      <td>29.68</td>\n",
       "      <td>29.59</td>\n",
       "      <td>10</td>\n",
       "      <td>7</td>\n",
       "      <td>2</td>\n",
       "      <td>20</td>\n",
       "      <td>4</td>\n",
       "      <td>31</td>\n",
       "      <td>0.46</td>\n",
       "      <td>Rain , Thunderstorm</td>\n",
       "    </tr>\n",
       "    <tr>\n",
       "      <th>1</th>\n",
       "      <td>2013-12-22</td>\n",
       "      <td>56</td>\n",
       "      <td>48</td>\n",
       "      <td>39</td>\n",
       "      <td>43</td>\n",
       "      <td>36</td>\n",
       "      <td>28</td>\n",
       "      <td>93</td>\n",
       "      <td>68</td>\n",
       "      <td>43</td>\n",
       "      <td>...</td>\n",
       "      <td>30.13</td>\n",
       "      <td>29.87</td>\n",
       "      <td>10</td>\n",
       "      <td>10</td>\n",
       "      <td>5</td>\n",
       "      <td>16</td>\n",
       "      <td>6</td>\n",
       "      <td>25</td>\n",
       "      <td>0</td>\n",
       "      <td></td>\n",
       "    </tr>\n",
       "    <tr>\n",
       "      <th>2</th>\n",
       "      <td>2013-12-23</td>\n",
       "      <td>58</td>\n",
       "      <td>45</td>\n",
       "      <td>32</td>\n",
       "      <td>31</td>\n",
       "      <td>27</td>\n",
       "      <td>23</td>\n",
       "      <td>76</td>\n",
       "      <td>52</td>\n",
       "      <td>27</td>\n",
       "      <td>...</td>\n",
       "      <td>30.49</td>\n",
       "      <td>30.41</td>\n",
       "      <td>10</td>\n",
       "      <td>10</td>\n",
       "      <td>10</td>\n",
       "      <td>8</td>\n",
       "      <td>3</td>\n",
       "      <td>12</td>\n",
       "      <td>0</td>\n",
       "      <td></td>\n",
       "    </tr>\n",
       "    <tr>\n",
       "      <th>3</th>\n",
       "      <td>2013-12-24</td>\n",
       "      <td>61</td>\n",
       "      <td>46</td>\n",
       "      <td>31</td>\n",
       "      <td>36</td>\n",
       "      <td>28</td>\n",
       "      <td>21</td>\n",
       "      <td>89</td>\n",
       "      <td>56</td>\n",
       "      <td>22</td>\n",
       "      <td>...</td>\n",
       "      <td>30.45</td>\n",
       "      <td>30.3</td>\n",
       "      <td>10</td>\n",
       "      <td>10</td>\n",
       "      <td>7</td>\n",
       "      <td>12</td>\n",
       "      <td>4</td>\n",
       "      <td>20</td>\n",
       "      <td>0</td>\n",
       "      <td></td>\n",
       "    </tr>\n",
       "    <tr>\n",
       "      <th>4</th>\n",
       "      <td>2013-12-25</td>\n",
       "      <td>58</td>\n",
       "      <td>50</td>\n",
       "      <td>41</td>\n",
       "      <td>44</td>\n",
       "      <td>40</td>\n",
       "      <td>36</td>\n",
       "      <td>86</td>\n",
       "      <td>71</td>\n",
       "      <td>56</td>\n",
       "      <td>...</td>\n",
       "      <td>30.33</td>\n",
       "      <td>30.27</td>\n",
       "      <td>10</td>\n",
       "      <td>10</td>\n",
       "      <td>7</td>\n",
       "      <td>10</td>\n",
       "      <td>2</td>\n",
       "      <td>16</td>\n",
       "      <td>T</td>\n",
       "      <td></td>\n",
       "    </tr>\n",
       "  </tbody>\n",
       "</table>\n",
       "<p>5 rows × 21 columns</p>\n",
       "</div>"
      ],
      "text/plain": [
       "         Date  TempHighF  TempAvgF  TempLowF DewPointHighF DewPointAvgF  \\\n",
       "0  2013-12-21         74        60        45            67           49   \n",
       "1  2013-12-22         56        48        39            43           36   \n",
       "2  2013-12-23         58        45        32            31           27   \n",
       "3  2013-12-24         61        46        31            36           28   \n",
       "4  2013-12-25         58        50        41            44           40   \n",
       "\n",
       "  DewPointLowF HumidityHighPercent HumidityAvgPercent HumidityLowPercent  ...  \\\n",
       "0           43                  93                 75                 57  ...   \n",
       "1           28                  93                 68                 43  ...   \n",
       "2           23                  76                 52                 27  ...   \n",
       "3           21                  89                 56                 22  ...   \n",
       "4           36                  86                 71                 56  ...   \n",
       "\n",
       "  SeaLevelPressureAvgInches SeaLevelPressureLowInches VisibilityHighMiles  \\\n",
       "0                     29.68                     29.59                  10   \n",
       "1                     30.13                     29.87                  10   \n",
       "2                     30.49                     30.41                  10   \n",
       "3                     30.45                      30.3                  10   \n",
       "4                     30.33                     30.27                  10   \n",
       "\n",
       "  VisibilityAvgMiles VisibilityLowMiles WindHighMPH WindAvgMPH WindGustMPH  \\\n",
       "0                  7                  2          20          4          31   \n",
       "1                 10                  5          16          6          25   \n",
       "2                 10                 10           8          3          12   \n",
       "3                 10                  7          12          4          20   \n",
       "4                 10                  7          10          2          16   \n",
       "\n",
       "  PrecipitationSumInches               Events  \n",
       "0                   0.46  Rain , Thunderstorm  \n",
       "1                      0                       \n",
       "2                      0                       \n",
       "3                      0                       \n",
       "4                      T                       \n",
       "\n",
       "[5 rows x 21 columns]"
      ]
     },
     "execution_count": 7,
     "metadata": {},
     "output_type": "execute_result"
    }
   ],
   "source": [
    "# Your code here\n",
    "austin.head(5)"
   ]
  },
  {
   "cell_type": "markdown",
   "metadata": {
    "id": "ligx-49Nt-_4"
   },
   "source": [
    "#### Given the information you have learned from examining the dataset, write down three insights about the data in a markdown cell below"
   ]
  },
  {
   "cell_type": "markdown",
   "metadata": {
    "id": "Dblmge9Lt-_4"
   },
   "source": [
    "#### Your Insights:\n",
    "\n",
    "1. There are 21 variables in the dataset. 3 of them are numeric and the rest contain some text.\n",
    "\n",
    "2. The average temperature in Austin ranged between around 70 degrees F and around 93 degrees F. The highest temperature observed during this period was 107 degrees F and the lowest was 19 degrees F.\n",
    "\n",
    "3. When we look at the head function, we see that a lot of variables contain numeric data even though these columns are of object type. This means we might have to do some data cleaning.\n"
   ]
  },
  {
   "cell_type": "markdown",
   "metadata": {
    "id": "XaLX98aot-_4"
   },
   "source": [
    "#### Let's examine the DewPointAvgF variable by using the `unique()` function to list all unique values in this dataframe.\n",
    "\n",
    "Describe what you find in a markdown cell below the code. What did you notice? What do you think made Pandas to treat this column as *object* instead of *int64*? "
   ]
  },
  {
   "cell_type": "code",
   "execution_count": 8,
   "metadata": {
    "colab": {
     "base_uri": "https://localhost:8080/"
    },
    "executionInfo": {
     "elapsed": 3,
     "status": "ok",
     "timestamp": 1627401532379,
     "user": {
      "displayName": "irving palacios",
      "photoUrl": "https://lh3.googleusercontent.com/a-/AOh14Gjw6M4LpzTUVro1G-5_aqYZYQhXb8NkvR-4cdiB=s64",
      "userId": "06814234566595318222"
     },
     "user_tz": 300
    },
    "id": "JTmj8rUot-_4",
    "outputId": "65a6b36c-8f35-4735-f630-72cb96c1bf17"
   },
   "outputs": [
    {
     "data": {
      "text/plain": [
       "array(['49', '36', '27', '28', '40', '39', '41', '26', '42', '22', '48',\n",
       "       '32', '8', '11', '45', '55', '61', '37', '47', '25', '23', '20',\n",
       "       '33', '30', '29', '17', '14', '13', '54', '59', '15', '24', '34',\n",
       "       '35', '57', '50', '53', '60', '46', '56', '51', '31', '38', '62',\n",
       "       '43', '63', '64', '67', '66', '58', '70', '68', '65', '69', '71',\n",
       "       '72', '-', '73', '74', '21', '44', '52', '12', '75', '76', '18'],\n",
       "      dtype=object)"
      ]
     },
     "execution_count": 8,
     "metadata": {},
     "output_type": "execute_result"
    }
   ],
   "source": [
    "# Your code here\n",
    "austin.DewPointAvgF.unique()"
   ]
  },
  {
   "cell_type": "code",
   "execution_count": 9,
   "metadata": {
    "colab": {
     "base_uri": "https://localhost:8080/",
     "height": 35
    },
    "executionInfo": {
     "elapsed": 3,
     "status": "ok",
     "timestamp": 1627401533093,
     "user": {
      "displayName": "irving palacios",
      "photoUrl": "https://lh3.googleusercontent.com/a-/AOh14Gjw6M4LpzTUVro1G-5_aqYZYQhXb8NkvR-4cdiB=s64",
      "userId": "06814234566595318222"
     },
     "user_tz": 300
    },
    "id": "7uhgDrQOt-_5",
    "outputId": "6d50c84a-289b-4d40-b012-125448c5e55b"
   },
   "outputs": [
    {
     "data": {
      "text/plain": [
       "'The object dtype works to treat a value as a mixed of numeric and non numeric value'"
      ]
     },
     "execution_count": 9,
     "metadata": {},
     "output_type": "execute_result"
    }
   ],
   "source": [
    "# Your observation here\n",
    "\n",
    "\n",
    "\"\"\"The object dtype works to treat a value as a mixed of numeric and non numeric value\"\"\""
   ]
  },
  {
   "cell_type": "markdown",
   "metadata": {
    "id": "608iRzyAt-_5"
   },
   "source": [
    "The following is a list of columns misrepresented as `object`. Use this list to convert the columns to numeric using the `pandas.to_numeric` function in the next cell. If you encounter errors in converting strings to numeric values, you need to catch those errors and force the conversion by supplying `errors='coerce'` as an argument for `pandas.to_numeric`. Coercing will replace non-convertable elements with `NaN` which represents an undefined numeric value. This makes it possible for us to conveniently handle missing values in subsequent data processing.\n",
    "\n",
    "*Hint: you may use a loop to change one column at a time but it is more efficient to use `apply`.*"
   ]
  },
  {
   "cell_type": "code",
   "execution_count": 10,
   "metadata": {
    "executionInfo": {
     "elapsed": 3,
     "status": "ok",
     "timestamp": 1627401534949,
     "user": {
      "displayName": "irving palacios",
      "photoUrl": "https://lh3.googleusercontent.com/a-/AOh14Gjw6M4LpzTUVro1G-5_aqYZYQhXb8NkvR-4cdiB=s64",
      "userId": "06814234566595318222"
     },
     "user_tz": 300
    },
    "id": "Uv2bNYESt-_5"
   },
   "outputs": [],
   "source": [
    "wrong_type_columns = ['DewPointHighF', 'DewPointAvgF', 'DewPointLowF', 'HumidityHighPercent', \n",
    "                      'HumidityAvgPercent', 'HumidityLowPercent', 'SeaLevelPressureHighInches', \n",
    "                      'SeaLevelPressureAvgInches' ,'SeaLevelPressureLowInches', 'VisibilityHighMiles',\n",
    "                      'VisibilityAvgMiles', 'VisibilityLowMiles', 'WindHighMPH', 'WindAvgMPH', \n",
    "                      'WindGustMPH', 'PrecipitationSumInches']"
   ]
  },
  {
   "cell_type": "code",
   "execution_count": 11,
   "metadata": {
    "executionInfo": {
     "elapsed": 1,
     "status": "ok",
     "timestamp": 1627401535405,
     "user": {
      "displayName": "irving palacios",
      "photoUrl": "https://lh3.googleusercontent.com/a-/AOh14Gjw6M4LpzTUVro1G-5_aqYZYQhXb8NkvR-4cdiB=s64",
      "userId": "06814234566595318222"
     },
     "user_tz": 300
    },
    "id": "EYvE3vGbt-_5"
   },
   "outputs": [],
   "source": [
    "# Your code here\n",
    "austin[wrong_type_columns]=austin[wrong_type_columns].apply(pd.to_numeric,errors='coerce')"
   ]
  },
  {
   "cell_type": "markdown",
   "metadata": {
    "id": "mcmGCxKot-_5"
   },
   "source": [
    "#### Check if your code has worked by printing the data types again. You should see only two `object` columns (`Date` and `Events`) now. All other columns should be `int64` or `float64`."
   ]
  },
  {
   "cell_type": "code",
   "execution_count": 12,
   "metadata": {
    "colab": {
     "base_uri": "https://localhost:8080/"
    },
    "executionInfo": {
     "elapsed": 3,
     "status": "ok",
     "timestamp": 1627401536056,
     "user": {
      "displayName": "irving palacios",
      "photoUrl": "https://lh3.googleusercontent.com/a-/AOh14Gjw6M4LpzTUVro1G-5_aqYZYQhXb8NkvR-4cdiB=s64",
      "userId": "06814234566595318222"
     },
     "user_tz": 300
    },
    "id": "USxmSQZmfXKq",
    "outputId": "1f561575-53a4-494f-84ba-7417b3a755da"
   },
   "outputs": [
    {
     "data": {
      "text/plain": [
       "Date                           object\n",
       "TempHighF                       int64\n",
       "TempAvgF                        int64\n",
       "TempLowF                        int64\n",
       "DewPointHighF                 float64\n",
       "DewPointAvgF                  float64\n",
       "DewPointLowF                  float64\n",
       "HumidityHighPercent           float64\n",
       "HumidityAvgPercent            float64\n",
       "HumidityLowPercent            float64\n",
       "SeaLevelPressureHighInches    float64\n",
       "SeaLevelPressureAvgInches     float64\n",
       "SeaLevelPressureLowInches     float64\n",
       "VisibilityHighMiles           float64\n",
       "VisibilityAvgMiles            float64\n",
       "VisibilityLowMiles            float64\n",
       "WindHighMPH                   float64\n",
       "WindAvgMPH                    float64\n",
       "WindGustMPH                   float64\n",
       "PrecipitationSumInches        float64\n",
       "Events                         object\n",
       "dtype: object"
      ]
     },
     "execution_count": 12,
     "metadata": {},
     "output_type": "execute_result"
    }
   ],
   "source": [
    "austin.dtypes"
   ]
  },
  {
   "cell_type": "markdown",
   "metadata": {
    "id": "ZifbrZ-Lt-_6"
   },
   "source": [
    "# Challenge 2 - Handle the Missing Data"
   ]
  },
  {
   "cell_type": "markdown",
   "metadata": {
    "id": "GPEqHVGkt-_6"
   },
   "source": [
    "#### Now that we have fixed the type mismatch, let's address the missing data.\n",
    "\n",
    "By coercing the columns to numeric, we have created `NaN` for each cell containing characters. We should choose a strategy to address these missing data.\n",
    "\n",
    "The first step is to examine how many rows contain missing data.\n",
    "\n",
    "We check how much missing data we have by applying the `.isnull()` function to our dataset. To find the rows with missing data in any of its cells, we apply `.any(axis=1)` to the function. `austin.isnull().any(axis=1)` will return a column containing true if the row contains at least one missing value and false otherwise. Therefore we must subset our dataframe with this column. This will give us all rows with at least one missing value. \n",
    "\n",
    "#### In the next cell, identify all rows containing at least one missing value. Assign the dataframes with missing values to a variable called `missing_values`."
   ]
  },
  {
   "cell_type": "code",
   "execution_count": 13,
   "metadata": {
    "executionInfo": {
     "elapsed": 1,
     "status": "ok",
     "timestamp": 1627401537881,
     "user": {
      "displayName": "irving palacios",
      "photoUrl": "https://lh3.googleusercontent.com/a-/AOh14Gjw6M4LpzTUVro1G-5_aqYZYQhXb8NkvR-4cdiB=s64",
      "userId": "06814234566595318222"
     },
     "user_tz": 300
    },
    "id": "VW2RnAiEt-_6"
   },
   "outputs": [],
   "source": [
    "# Your code here\n",
    "missing_values = austin[austin.isnull().any(axis=1)]"
   ]
  },
  {
   "cell_type": "code",
   "execution_count": 14,
   "metadata": {
    "colab": {
     "base_uri": "https://localhost:8080/"
    },
    "executionInfo": {
     "elapsed": 2,
     "status": "ok",
     "timestamp": 1627401539137,
     "user": {
      "displayName": "irving palacios",
      "photoUrl": "https://lh3.googleusercontent.com/a-/AOh14Gjw6M4LpzTUVro1G-5_aqYZYQhXb8NkvR-4cdiB=s64",
      "userId": "06814234566595318222"
     },
     "user_tz": 300
    },
    "id": "_BE7DkqSjy8W",
    "outputId": "3fa668e1-0f65-4716-d7c7-22af35fa3763"
   },
   "outputs": [
    {
     "data": {
      "text/plain": [
       "(136, 21)"
      ]
     },
     "execution_count": 14,
     "metadata": {},
     "output_type": "execute_result"
    }
   ],
   "source": [
    "missing_values.shape"
   ]
  },
  {
   "cell_type": "code",
   "execution_count": 15,
   "metadata": {
    "colab": {
     "base_uri": "https://localhost:8080/",
     "height": 309
    },
    "executionInfo": {
     "elapsed": 3,
     "status": "ok",
     "timestamp": 1627401539777,
     "user": {
      "displayName": "irving palacios",
      "photoUrl": "https://lh3.googleusercontent.com/a-/AOh14Gjw6M4LpzTUVro1G-5_aqYZYQhXb8NkvR-4cdiB=s64",
      "userId": "06814234566595318222"
     },
     "user_tz": 300
    },
    "id": "Gkfml-49WkOj",
    "outputId": "ee4edef5-1d2d-46f7-ced9-365402a85ea9"
   },
   "outputs": [
    {
     "data": {
      "text/html": [
       "<div>\n",
       "<style scoped>\n",
       "    .dataframe tbody tr th:only-of-type {\n",
       "        vertical-align: middle;\n",
       "    }\n",
       "\n",
       "    .dataframe tbody tr th {\n",
       "        vertical-align: top;\n",
       "    }\n",
       "\n",
       "    .dataframe thead th {\n",
       "        text-align: right;\n",
       "    }\n",
       "</style>\n",
       "<table border=\"1\" class=\"dataframe\">\n",
       "  <thead>\n",
       "    <tr style=\"text-align: right;\">\n",
       "      <th></th>\n",
       "      <th>Date</th>\n",
       "      <th>TempHighF</th>\n",
       "      <th>TempAvgF</th>\n",
       "      <th>TempLowF</th>\n",
       "      <th>DewPointHighF</th>\n",
       "      <th>DewPointAvgF</th>\n",
       "      <th>DewPointLowF</th>\n",
       "      <th>HumidityHighPercent</th>\n",
       "      <th>HumidityAvgPercent</th>\n",
       "      <th>HumidityLowPercent</th>\n",
       "      <th>...</th>\n",
       "      <th>SeaLevelPressureAvgInches</th>\n",
       "      <th>SeaLevelPressureLowInches</th>\n",
       "      <th>VisibilityHighMiles</th>\n",
       "      <th>VisibilityAvgMiles</th>\n",
       "      <th>VisibilityLowMiles</th>\n",
       "      <th>WindHighMPH</th>\n",
       "      <th>WindAvgMPH</th>\n",
       "      <th>WindGustMPH</th>\n",
       "      <th>PrecipitationSumInches</th>\n",
       "      <th>Events</th>\n",
       "    </tr>\n",
       "  </thead>\n",
       "  <tbody>\n",
       "    <tr>\n",
       "      <th>4</th>\n",
       "      <td>2013-12-25</td>\n",
       "      <td>58</td>\n",
       "      <td>50</td>\n",
       "      <td>41</td>\n",
       "      <td>44.0</td>\n",
       "      <td>40.0</td>\n",
       "      <td>36.0</td>\n",
       "      <td>86.0</td>\n",
       "      <td>71.0</td>\n",
       "      <td>56.0</td>\n",
       "      <td>...</td>\n",
       "      <td>30.33</td>\n",
       "      <td>30.27</td>\n",
       "      <td>10.0</td>\n",
       "      <td>10.0</td>\n",
       "      <td>7.0</td>\n",
       "      <td>10.0</td>\n",
       "      <td>2.0</td>\n",
       "      <td>16.0</td>\n",
       "      <td>NaN</td>\n",
       "      <td></td>\n",
       "    </tr>\n",
       "    <tr>\n",
       "      <th>6</th>\n",
       "      <td>2013-12-27</td>\n",
       "      <td>60</td>\n",
       "      <td>53</td>\n",
       "      <td>45</td>\n",
       "      <td>41.0</td>\n",
       "      <td>39.0</td>\n",
       "      <td>37.0</td>\n",
       "      <td>83.0</td>\n",
       "      <td>65.0</td>\n",
       "      <td>47.0</td>\n",
       "      <td>...</td>\n",
       "      <td>30.39</td>\n",
       "      <td>30.34</td>\n",
       "      <td>10.0</td>\n",
       "      <td>9.0</td>\n",
       "      <td>7.0</td>\n",
       "      <td>7.0</td>\n",
       "      <td>1.0</td>\n",
       "      <td>11.0</td>\n",
       "      <td>NaN</td>\n",
       "      <td></td>\n",
       "    </tr>\n",
       "    <tr>\n",
       "      <th>7</th>\n",
       "      <td>2013-12-28</td>\n",
       "      <td>62</td>\n",
       "      <td>51</td>\n",
       "      <td>40</td>\n",
       "      <td>43.0</td>\n",
       "      <td>39.0</td>\n",
       "      <td>33.0</td>\n",
       "      <td>92.0</td>\n",
       "      <td>64.0</td>\n",
       "      <td>36.0</td>\n",
       "      <td>...</td>\n",
       "      <td>30.17</td>\n",
       "      <td>30.04</td>\n",
       "      <td>10.0</td>\n",
       "      <td>10.0</td>\n",
       "      <td>7.0</td>\n",
       "      <td>10.0</td>\n",
       "      <td>2.0</td>\n",
       "      <td>14.0</td>\n",
       "      <td>NaN</td>\n",
       "      <td></td>\n",
       "    </tr>\n",
       "    <tr>\n",
       "      <th>42</th>\n",
       "      <td>2014-02-01</td>\n",
       "      <td>76</td>\n",
       "      <td>66</td>\n",
       "      <td>55</td>\n",
       "      <td>62.0</td>\n",
       "      <td>59.0</td>\n",
       "      <td>41.0</td>\n",
       "      <td>81.0</td>\n",
       "      <td>71.0</td>\n",
       "      <td>60.0</td>\n",
       "      <td>...</td>\n",
       "      <td>29.81</td>\n",
       "      <td>29.75</td>\n",
       "      <td>10.0</td>\n",
       "      <td>10.0</td>\n",
       "      <td>9.0</td>\n",
       "      <td>14.0</td>\n",
       "      <td>6.0</td>\n",
       "      <td>26.0</td>\n",
       "      <td>NaN</td>\n",
       "      <td>Rain</td>\n",
       "    </tr>\n",
       "    <tr>\n",
       "      <th>51</th>\n",
       "      <td>2014-02-10</td>\n",
       "      <td>60</td>\n",
       "      <td>48</td>\n",
       "      <td>35</td>\n",
       "      <td>49.0</td>\n",
       "      <td>36.0</td>\n",
       "      <td>30.0</td>\n",
       "      <td>82.0</td>\n",
       "      <td>74.0</td>\n",
       "      <td>66.0</td>\n",
       "      <td>...</td>\n",
       "      <td>30.15</td>\n",
       "      <td>30.02</td>\n",
       "      <td>10.0</td>\n",
       "      <td>8.0</td>\n",
       "      <td>4.0</td>\n",
       "      <td>15.0</td>\n",
       "      <td>9.0</td>\n",
       "      <td>23.0</td>\n",
       "      <td>NaN</td>\n",
       "      <td>Rain</td>\n",
       "    </tr>\n",
       "  </tbody>\n",
       "</table>\n",
       "<p>5 rows × 21 columns</p>\n",
       "</div>"
      ],
      "text/plain": [
       "          Date  TempHighF  TempAvgF  TempLowF  DewPointHighF  DewPointAvgF  \\\n",
       "4   2013-12-25         58        50        41           44.0          40.0   \n",
       "6   2013-12-27         60        53        45           41.0          39.0   \n",
       "7   2013-12-28         62        51        40           43.0          39.0   \n",
       "42  2014-02-01         76        66        55           62.0          59.0   \n",
       "51  2014-02-10         60        48        35           49.0          36.0   \n",
       "\n",
       "    DewPointLowF  HumidityHighPercent  HumidityAvgPercent  HumidityLowPercent  \\\n",
       "4           36.0                 86.0                71.0                56.0   \n",
       "6           37.0                 83.0                65.0                47.0   \n",
       "7           33.0                 92.0                64.0                36.0   \n",
       "42          41.0                 81.0                71.0                60.0   \n",
       "51          30.0                 82.0                74.0                66.0   \n",
       "\n",
       "    ...  SeaLevelPressureAvgInches  SeaLevelPressureLowInches  \\\n",
       "4   ...                      30.33                      30.27   \n",
       "6   ...                      30.39                      30.34   \n",
       "7   ...                      30.17                      30.04   \n",
       "42  ...                      29.81                      29.75   \n",
       "51  ...                      30.15                      30.02   \n",
       "\n",
       "    VisibilityHighMiles  VisibilityAvgMiles  VisibilityLowMiles  WindHighMPH  \\\n",
       "4                  10.0                10.0                 7.0         10.0   \n",
       "6                  10.0                 9.0                 7.0          7.0   \n",
       "7                  10.0                10.0                 7.0         10.0   \n",
       "42                 10.0                10.0                 9.0         14.0   \n",
       "51                 10.0                 8.0                 4.0         15.0   \n",
       "\n",
       "    WindAvgMPH  WindGustMPH  PrecipitationSumInches  Events  \n",
       "4          2.0         16.0                     NaN          \n",
       "6          1.0         11.0                     NaN          \n",
       "7          2.0         14.0                     NaN          \n",
       "42         6.0         26.0                     NaN    Rain  \n",
       "51         9.0         23.0                     NaN    Rain  \n",
       "\n",
       "[5 rows x 21 columns]"
      ]
     },
     "execution_count": 15,
     "metadata": {},
     "output_type": "execute_result"
    }
   ],
   "source": [
    "missing_values.head(5)"
   ]
  },
  {
   "cell_type": "markdown",
   "metadata": {
    "id": "_uJvavdrt-_7"
   },
   "source": [
    "There are multiple strategies to handle missing data. Below lists the most common ones data scientists use:\n",
    "\n",
    "* Removing all rows or all columns containing missing data. This is the simplest strategy. It may work in some cases but not others.\n",
    "\n",
    "* Filling all missing values with a placeholder value. \n",
    "    * For categorical data, `0`, `-1`, and `9999` are some commonly used placeholder values. \n",
    "    * For continuous data, some may opt to fill all missing data with the mean. This strategy is not optimal since it can increase the fit of the model.\n",
    "\n",
    "* Filling the values using some algorithm. \n",
    "\n",
    "#### In our case, we will use a hybrid approach which is to first remove the data that contain most missing values then fill in the rest of the missing values with the *linear interpolation* algorithm."
   ]
  },
  {
   "cell_type": "markdown",
   "metadata": {
    "id": "cp6bSMurt-_7"
   },
   "source": [
    "#### Next, count the number of rows of `austin` and `missing_values`."
   ]
  },
  {
   "cell_type": "code",
   "execution_count": 16,
   "metadata": {
    "colab": {
     "base_uri": "https://localhost:8080/"
    },
    "executionInfo": {
     "elapsed": 265,
     "status": "ok",
     "timestamp": 1627401581712,
     "user": {
      "displayName": "irving palacios",
      "photoUrl": "https://lh3.googleusercontent.com/a-/AOh14Gjw6M4LpzTUVro1G-5_aqYZYQhXb8NkvR-4cdiB=s64",
      "userId": "06814234566595318222"
     },
     "user_tz": 300
    },
    "id": "CwRnHWwht-_7",
    "outputId": "d0fbf7f6-b706-4785-882b-6da6b47b365d"
   },
   "outputs": [
    {
     "name": "stdout",
     "output_type": "stream",
     "text": [
      "(1319, 21)\n",
      "(136, 21)\n"
     ]
    }
   ],
   "source": [
    "# Your code\n",
    "print(austin.shape)\n",
    "print(missing_values.shape)"
   ]
  },
  {
   "cell_type": "markdown",
   "metadata": {
    "id": "e7SXoRPGt-_7"
   },
   "source": [
    "#### Calculate the ratio of missing rows to total rows"
   ]
  },
  {
   "cell_type": "code",
   "execution_count": 17,
   "metadata": {
    "colab": {
     "base_uri": "https://localhost:8080/"
    },
    "executionInfo": {
     "elapsed": 226,
     "status": "ok",
     "timestamp": 1627401693296,
     "user": {
      "displayName": "irving palacios",
      "photoUrl": "https://lh3.googleusercontent.com/a-/AOh14Gjw6M4LpzTUVro1G-5_aqYZYQhXb8NkvR-4cdiB=s64",
      "userId": "06814234566595318222"
     },
     "user_tz": 300
    },
    "id": "yepUYZv8t-_8",
    "outputId": "1f6919e4-a7bb-40f6-e3a0-75199ebf013c"
   },
   "outputs": [
    {
     "name": "stdout",
     "output_type": "stream",
     "text": [
      "10.310841546626232 %\n"
     ]
    }
   ],
   "source": [
    "# Your code here\n",
    "ratio = (missing_values.shape[0])/(austin.shape[0])\n",
    "print(ratio*100,'%')"
   ]
  },
  {
   "cell_type": "markdown",
   "metadata": {
    "id": "FEL-dtTst-_8"
   },
   "source": [
    "As you can see, there is a large proportion of missing data (over 10%). Perhaps we should evaluate which columns have the most missing data and remove those columns. For the remaining columns, we will perform a linear approximation of the missing data.\n",
    "\n",
    "We can find the number of missing rows in each column using the `.isna()` function. We then chain the `.sum` function to the `.isna()` function and find the number of missing rows per column"
   ]
  },
  {
   "cell_type": "code",
   "execution_count": 18,
   "metadata": {
    "colab": {
     "base_uri": "https://localhost:8080/"
    },
    "executionInfo": {
     "elapsed": 234,
     "status": "ok",
     "timestamp": 1627401765465,
     "user": {
      "displayName": "irving palacios",
      "photoUrl": "https://lh3.googleusercontent.com/a-/AOh14Gjw6M4LpzTUVro1G-5_aqYZYQhXb8NkvR-4cdiB=s64",
      "userId": "06814234566595318222"
     },
     "user_tz": 300
    },
    "id": "C61OR5PCt-_8",
    "outputId": "88111780-bc49-4b7e-cc4b-3165f2952e37"
   },
   "outputs": [
    {
     "data": {
      "text/plain": [
       "Date                            0\n",
       "TempHighF                       0\n",
       "TempAvgF                        0\n",
       "TempLowF                        0\n",
       "DewPointHighF                   7\n",
       "DewPointAvgF                    7\n",
       "DewPointLowF                    7\n",
       "HumidityHighPercent             2\n",
       "HumidityAvgPercent              2\n",
       "HumidityLowPercent              2\n",
       "SeaLevelPressureHighInches      3\n",
       "SeaLevelPressureAvgInches       3\n",
       "SeaLevelPressureLowInches       3\n",
       "VisibilityHighMiles            12\n",
       "VisibilityAvgMiles             12\n",
       "VisibilityLowMiles             12\n",
       "WindHighMPH                     2\n",
       "WindAvgMPH                      2\n",
       "WindGustMPH                     4\n",
       "PrecipitationSumInches        124\n",
       "Events                          0\n",
       "dtype: int64"
      ]
     },
     "execution_count": 18,
     "metadata": {},
     "output_type": "execute_result"
    }
   ],
   "source": [
    "# Your code here\n",
    "\n",
    "austin.isna().sum()"
   ]
  },
  {
   "cell_type": "markdown",
   "metadata": {
    "id": "iL1ESINtt-_9"
   },
   "source": [
    "#### As you can see from the output, the majority of missing data is in one column called `PrecipitationSumInches`. What's the number of missing values in this column in ratio to its total number of rows?"
   ]
  },
  {
   "cell_type": "code",
   "execution_count": 19,
   "metadata": {
    "colab": {
     "base_uri": "https://localhost:8080/"
    },
    "executionInfo": {
     "elapsed": 127,
     "status": "ok",
     "timestamp": 1627402506860,
     "user": {
      "displayName": "irving palacios",
      "photoUrl": "https://lh3.googleusercontent.com/a-/AOh14Gjw6M4LpzTUVro1G-5_aqYZYQhXb8NkvR-4cdiB=s64",
      "userId": "06814234566595318222"
     },
     "user_tz": 300
    },
    "id": "B6iLxXdFvlDr",
    "outputId": "7f3533ec-493b-4d48-c836-627637adbcc8"
   },
   "outputs": [
    {
     "data": {
      "text/plain": [
       "124"
      ]
     },
     "execution_count": 19,
     "metadata": {},
     "output_type": "execute_result"
    }
   ],
   "source": [
    "austin.PrecipitationSumInches.isna().sum()"
   ]
  },
  {
   "cell_type": "code",
   "execution_count": 20,
   "metadata": {
    "colab": {
     "base_uri": "https://localhost:8080/"
    },
    "executionInfo": {
     "elapsed": 145,
     "status": "ok",
     "timestamp": 1627402517723,
     "user": {
      "displayName": "irving palacios",
      "photoUrl": "https://lh3.googleusercontent.com/a-/AOh14Gjw6M4LpzTUVro1G-5_aqYZYQhXb8NkvR-4cdiB=s64",
      "userId": "06814234566595318222"
     },
     "user_tz": 300
    },
    "id": "fKqBm9n6t-_9",
    "outputId": "f61ee37c-efac-4505-de0e-422cdeff490c"
   },
   "outputs": [
    {
     "name": "stdout",
     "output_type": "stream",
     "text": [
      "9.401061410159212 %\n"
     ]
    }
   ],
   "source": [
    "# Your code here\n",
    "\n",
    "ratio_precip = (austin.PrecipitationSumInches.isna().sum())/(austin.shape[0])\n",
    "print(ratio_precip*100,'%')"
   ]
  },
  {
   "cell_type": "markdown",
   "metadata": {
    "id": "ZPePRxlLt-_9"
   },
   "source": [
    "Over 9% data missing! Therefore, we prefer to remove this column instead of filling its missing values. It doesn't make sense to *guess* its missing values because the estimation will be too \n",
    "\n",
    "#### Remove this column from `austin` using the `.drop()` function. Use the `inplace=True` argument.\n",
    "\n",
    "*Hints:*\n",
    "\n",
    "* By supplying `inplace=True` to `drop()`, the original dataframe object will be changed in place and the function will return `None`. In contrast, if you don't supply `inplace=True`, which is equivalent to supplying `inplace=False` because `False` is the default value, the original dataframe object will be kept and the function returns a copy of the transformed dataframe object. In the latter case, you'll have to assign the returned object back to your variable.\n",
    "\n",
    "* Also, since you are dropping a column instead of a row, you'll need to supply `axis=1` to `drop()`.\n",
    "\n",
    "[Reference for `pandas.DataFrame.drop`](https://pandas.pydata.org/pandas-docs/stable/generated/pandas.DataFrame.drop.html)"
   ]
  },
  {
   "cell_type": "code",
   "execution_count": 21,
   "metadata": {
    "colab": {
     "base_uri": "https://localhost:8080/",
     "height": 609
    },
    "executionInfo": {
     "elapsed": 162,
     "status": "ok",
     "timestamp": 1627402641813,
     "user": {
      "displayName": "irving palacios",
      "photoUrl": "https://lh3.googleusercontent.com/a-/AOh14Gjw6M4LpzTUVro1G-5_aqYZYQhXb8NkvR-4cdiB=s64",
      "userId": "06814234566595318222"
     },
     "user_tz": 300
    },
    "id": "SaBnti_Xt-_9",
    "outputId": "96bd4c1d-a182-4551-8e29-b421e7b65355"
   },
   "outputs": [
    {
     "data": {
      "text/html": [
       "<div>\n",
       "<style scoped>\n",
       "    .dataframe tbody tr th:only-of-type {\n",
       "        vertical-align: middle;\n",
       "    }\n",
       "\n",
       "    .dataframe tbody tr th {\n",
       "        vertical-align: top;\n",
       "    }\n",
       "\n",
       "    .dataframe thead th {\n",
       "        text-align: right;\n",
       "    }\n",
       "</style>\n",
       "<table border=\"1\" class=\"dataframe\">\n",
       "  <thead>\n",
       "    <tr style=\"text-align: right;\">\n",
       "      <th></th>\n",
       "      <th>Date</th>\n",
       "      <th>TempHighF</th>\n",
       "      <th>TempAvgF</th>\n",
       "      <th>TempLowF</th>\n",
       "      <th>DewPointHighF</th>\n",
       "      <th>DewPointAvgF</th>\n",
       "      <th>DewPointLowF</th>\n",
       "      <th>HumidityHighPercent</th>\n",
       "      <th>HumidityAvgPercent</th>\n",
       "      <th>HumidityLowPercent</th>\n",
       "      <th>SeaLevelPressureHighInches</th>\n",
       "      <th>SeaLevelPressureAvgInches</th>\n",
       "      <th>SeaLevelPressureLowInches</th>\n",
       "      <th>VisibilityHighMiles</th>\n",
       "      <th>VisibilityAvgMiles</th>\n",
       "      <th>VisibilityLowMiles</th>\n",
       "      <th>WindHighMPH</th>\n",
       "      <th>WindAvgMPH</th>\n",
       "      <th>WindGustMPH</th>\n",
       "      <th>Events</th>\n",
       "    </tr>\n",
       "  </thead>\n",
       "  <tbody>\n",
       "    <tr>\n",
       "      <th>0</th>\n",
       "      <td>2013-12-21</td>\n",
       "      <td>74</td>\n",
       "      <td>60</td>\n",
       "      <td>45</td>\n",
       "      <td>67.0</td>\n",
       "      <td>49.0</td>\n",
       "      <td>43.0</td>\n",
       "      <td>93.0</td>\n",
       "      <td>75.0</td>\n",
       "      <td>57.0</td>\n",
       "      <td>29.86</td>\n",
       "      <td>29.68</td>\n",
       "      <td>29.59</td>\n",
       "      <td>10.0</td>\n",
       "      <td>7.0</td>\n",
       "      <td>2.0</td>\n",
       "      <td>20.0</td>\n",
       "      <td>4.0</td>\n",
       "      <td>31.0</td>\n",
       "      <td>Rain , Thunderstorm</td>\n",
       "    </tr>\n",
       "    <tr>\n",
       "      <th>1</th>\n",
       "      <td>2013-12-22</td>\n",
       "      <td>56</td>\n",
       "      <td>48</td>\n",
       "      <td>39</td>\n",
       "      <td>43.0</td>\n",
       "      <td>36.0</td>\n",
       "      <td>28.0</td>\n",
       "      <td>93.0</td>\n",
       "      <td>68.0</td>\n",
       "      <td>43.0</td>\n",
       "      <td>30.41</td>\n",
       "      <td>30.13</td>\n",
       "      <td>29.87</td>\n",
       "      <td>10.0</td>\n",
       "      <td>10.0</td>\n",
       "      <td>5.0</td>\n",
       "      <td>16.0</td>\n",
       "      <td>6.0</td>\n",
       "      <td>25.0</td>\n",
       "      <td></td>\n",
       "    </tr>\n",
       "    <tr>\n",
       "      <th>2</th>\n",
       "      <td>2013-12-23</td>\n",
       "      <td>58</td>\n",
       "      <td>45</td>\n",
       "      <td>32</td>\n",
       "      <td>31.0</td>\n",
       "      <td>27.0</td>\n",
       "      <td>23.0</td>\n",
       "      <td>76.0</td>\n",
       "      <td>52.0</td>\n",
       "      <td>27.0</td>\n",
       "      <td>30.56</td>\n",
       "      <td>30.49</td>\n",
       "      <td>30.41</td>\n",
       "      <td>10.0</td>\n",
       "      <td>10.0</td>\n",
       "      <td>10.0</td>\n",
       "      <td>8.0</td>\n",
       "      <td>3.0</td>\n",
       "      <td>12.0</td>\n",
       "      <td></td>\n",
       "    </tr>\n",
       "    <tr>\n",
       "      <th>3</th>\n",
       "      <td>2013-12-24</td>\n",
       "      <td>61</td>\n",
       "      <td>46</td>\n",
       "      <td>31</td>\n",
       "      <td>36.0</td>\n",
       "      <td>28.0</td>\n",
       "      <td>21.0</td>\n",
       "      <td>89.0</td>\n",
       "      <td>56.0</td>\n",
       "      <td>22.0</td>\n",
       "      <td>30.56</td>\n",
       "      <td>30.45</td>\n",
       "      <td>30.30</td>\n",
       "      <td>10.0</td>\n",
       "      <td>10.0</td>\n",
       "      <td>7.0</td>\n",
       "      <td>12.0</td>\n",
       "      <td>4.0</td>\n",
       "      <td>20.0</td>\n",
       "      <td></td>\n",
       "    </tr>\n",
       "    <tr>\n",
       "      <th>4</th>\n",
       "      <td>2013-12-25</td>\n",
       "      <td>58</td>\n",
       "      <td>50</td>\n",
       "      <td>41</td>\n",
       "      <td>44.0</td>\n",
       "      <td>40.0</td>\n",
       "      <td>36.0</td>\n",
       "      <td>86.0</td>\n",
       "      <td>71.0</td>\n",
       "      <td>56.0</td>\n",
       "      <td>30.41</td>\n",
       "      <td>30.33</td>\n",
       "      <td>30.27</td>\n",
       "      <td>10.0</td>\n",
       "      <td>10.0</td>\n",
       "      <td>7.0</td>\n",
       "      <td>10.0</td>\n",
       "      <td>2.0</td>\n",
       "      <td>16.0</td>\n",
       "      <td></td>\n",
       "    </tr>\n",
       "    <tr>\n",
       "      <th>...</th>\n",
       "      <td>...</td>\n",
       "      <td>...</td>\n",
       "      <td>...</td>\n",
       "      <td>...</td>\n",
       "      <td>...</td>\n",
       "      <td>...</td>\n",
       "      <td>...</td>\n",
       "      <td>...</td>\n",
       "      <td>...</td>\n",
       "      <td>...</td>\n",
       "      <td>...</td>\n",
       "      <td>...</td>\n",
       "      <td>...</td>\n",
       "      <td>...</td>\n",
       "      <td>...</td>\n",
       "      <td>...</td>\n",
       "      <td>...</td>\n",
       "      <td>...</td>\n",
       "      <td>...</td>\n",
       "      <td>...</td>\n",
       "    </tr>\n",
       "    <tr>\n",
       "      <th>1314</th>\n",
       "      <td>2017-07-27</td>\n",
       "      <td>103</td>\n",
       "      <td>89</td>\n",
       "      <td>75</td>\n",
       "      <td>71.0</td>\n",
       "      <td>67.0</td>\n",
       "      <td>61.0</td>\n",
       "      <td>82.0</td>\n",
       "      <td>54.0</td>\n",
       "      <td>25.0</td>\n",
       "      <td>30.04</td>\n",
       "      <td>29.97</td>\n",
       "      <td>29.88</td>\n",
       "      <td>10.0</td>\n",
       "      <td>10.0</td>\n",
       "      <td>10.0</td>\n",
       "      <td>12.0</td>\n",
       "      <td>5.0</td>\n",
       "      <td>21.0</td>\n",
       "      <td></td>\n",
       "    </tr>\n",
       "    <tr>\n",
       "      <th>1315</th>\n",
       "      <td>2017-07-28</td>\n",
       "      <td>105</td>\n",
       "      <td>91</td>\n",
       "      <td>76</td>\n",
       "      <td>71.0</td>\n",
       "      <td>64.0</td>\n",
       "      <td>55.0</td>\n",
       "      <td>87.0</td>\n",
       "      <td>54.0</td>\n",
       "      <td>20.0</td>\n",
       "      <td>29.97</td>\n",
       "      <td>29.90</td>\n",
       "      <td>29.81</td>\n",
       "      <td>10.0</td>\n",
       "      <td>10.0</td>\n",
       "      <td>10.0</td>\n",
       "      <td>14.0</td>\n",
       "      <td>5.0</td>\n",
       "      <td>20.0</td>\n",
       "      <td></td>\n",
       "    </tr>\n",
       "    <tr>\n",
       "      <th>1316</th>\n",
       "      <td>2017-07-29</td>\n",
       "      <td>107</td>\n",
       "      <td>92</td>\n",
       "      <td>77</td>\n",
       "      <td>72.0</td>\n",
       "      <td>64.0</td>\n",
       "      <td>55.0</td>\n",
       "      <td>82.0</td>\n",
       "      <td>51.0</td>\n",
       "      <td>19.0</td>\n",
       "      <td>29.91</td>\n",
       "      <td>29.86</td>\n",
       "      <td>29.79</td>\n",
       "      <td>10.0</td>\n",
       "      <td>10.0</td>\n",
       "      <td>10.0</td>\n",
       "      <td>12.0</td>\n",
       "      <td>4.0</td>\n",
       "      <td>17.0</td>\n",
       "      <td></td>\n",
       "    </tr>\n",
       "    <tr>\n",
       "      <th>1317</th>\n",
       "      <td>2017-07-30</td>\n",
       "      <td>106</td>\n",
       "      <td>93</td>\n",
       "      <td>79</td>\n",
       "      <td>70.0</td>\n",
       "      <td>68.0</td>\n",
       "      <td>63.0</td>\n",
       "      <td>69.0</td>\n",
       "      <td>48.0</td>\n",
       "      <td>27.0</td>\n",
       "      <td>29.96</td>\n",
       "      <td>29.91</td>\n",
       "      <td>29.87</td>\n",
       "      <td>10.0</td>\n",
       "      <td>10.0</td>\n",
       "      <td>10.0</td>\n",
       "      <td>13.0</td>\n",
       "      <td>4.0</td>\n",
       "      <td>20.0</td>\n",
       "      <td></td>\n",
       "    </tr>\n",
       "    <tr>\n",
       "      <th>1318</th>\n",
       "      <td>2017-07-31</td>\n",
       "      <td>99</td>\n",
       "      <td>88</td>\n",
       "      <td>77</td>\n",
       "      <td>66.0</td>\n",
       "      <td>61.0</td>\n",
       "      <td>54.0</td>\n",
       "      <td>64.0</td>\n",
       "      <td>43.0</td>\n",
       "      <td>22.0</td>\n",
       "      <td>30.04</td>\n",
       "      <td>29.97</td>\n",
       "      <td>29.91</td>\n",
       "      <td>10.0</td>\n",
       "      <td>10.0</td>\n",
       "      <td>10.0</td>\n",
       "      <td>12.0</td>\n",
       "      <td>4.0</td>\n",
       "      <td>20.0</td>\n",
       "      <td></td>\n",
       "    </tr>\n",
       "  </tbody>\n",
       "</table>\n",
       "<p>1319 rows × 20 columns</p>\n",
       "</div>"
      ],
      "text/plain": [
       "            Date  TempHighF  TempAvgF  TempLowF  DewPointHighF  DewPointAvgF  \\\n",
       "0     2013-12-21         74        60        45           67.0          49.0   \n",
       "1     2013-12-22         56        48        39           43.0          36.0   \n",
       "2     2013-12-23         58        45        32           31.0          27.0   \n",
       "3     2013-12-24         61        46        31           36.0          28.0   \n",
       "4     2013-12-25         58        50        41           44.0          40.0   \n",
       "...          ...        ...       ...       ...            ...           ...   \n",
       "1314  2017-07-27        103        89        75           71.0          67.0   \n",
       "1315  2017-07-28        105        91        76           71.0          64.0   \n",
       "1316  2017-07-29        107        92        77           72.0          64.0   \n",
       "1317  2017-07-30        106        93        79           70.0          68.0   \n",
       "1318  2017-07-31         99        88        77           66.0          61.0   \n",
       "\n",
       "      DewPointLowF  HumidityHighPercent  HumidityAvgPercent  \\\n",
       "0             43.0                 93.0                75.0   \n",
       "1             28.0                 93.0                68.0   \n",
       "2             23.0                 76.0                52.0   \n",
       "3             21.0                 89.0                56.0   \n",
       "4             36.0                 86.0                71.0   \n",
       "...            ...                  ...                 ...   \n",
       "1314          61.0                 82.0                54.0   \n",
       "1315          55.0                 87.0                54.0   \n",
       "1316          55.0                 82.0                51.0   \n",
       "1317          63.0                 69.0                48.0   \n",
       "1318          54.0                 64.0                43.0   \n",
       "\n",
       "      HumidityLowPercent  SeaLevelPressureHighInches  \\\n",
       "0                   57.0                       29.86   \n",
       "1                   43.0                       30.41   \n",
       "2                   27.0                       30.56   \n",
       "3                   22.0                       30.56   \n",
       "4                   56.0                       30.41   \n",
       "...                  ...                         ...   \n",
       "1314                25.0                       30.04   \n",
       "1315                20.0                       29.97   \n",
       "1316                19.0                       29.91   \n",
       "1317                27.0                       29.96   \n",
       "1318                22.0                       30.04   \n",
       "\n",
       "      SeaLevelPressureAvgInches  SeaLevelPressureLowInches  \\\n",
       "0                         29.68                      29.59   \n",
       "1                         30.13                      29.87   \n",
       "2                         30.49                      30.41   \n",
       "3                         30.45                      30.30   \n",
       "4                         30.33                      30.27   \n",
       "...                         ...                        ...   \n",
       "1314                      29.97                      29.88   \n",
       "1315                      29.90                      29.81   \n",
       "1316                      29.86                      29.79   \n",
       "1317                      29.91                      29.87   \n",
       "1318                      29.97                      29.91   \n",
       "\n",
       "      VisibilityHighMiles  VisibilityAvgMiles  VisibilityLowMiles  \\\n",
       "0                    10.0                 7.0                 2.0   \n",
       "1                    10.0                10.0                 5.0   \n",
       "2                    10.0                10.0                10.0   \n",
       "3                    10.0                10.0                 7.0   \n",
       "4                    10.0                10.0                 7.0   \n",
       "...                   ...                 ...                 ...   \n",
       "1314                 10.0                10.0                10.0   \n",
       "1315                 10.0                10.0                10.0   \n",
       "1316                 10.0                10.0                10.0   \n",
       "1317                 10.0                10.0                10.0   \n",
       "1318                 10.0                10.0                10.0   \n",
       "\n",
       "      WindHighMPH  WindAvgMPH  WindGustMPH               Events  \n",
       "0            20.0         4.0         31.0  Rain , Thunderstorm  \n",
       "1            16.0         6.0         25.0                       \n",
       "2             8.0         3.0         12.0                       \n",
       "3            12.0         4.0         20.0                       \n",
       "4            10.0         2.0         16.0                       \n",
       "...           ...         ...          ...                  ...  \n",
       "1314         12.0         5.0         21.0                       \n",
       "1315         14.0         5.0         20.0                       \n",
       "1316         12.0         4.0         17.0                       \n",
       "1317         13.0         4.0         20.0                       \n",
       "1318         12.0         4.0         20.0                       \n",
       "\n",
       "[1319 rows x 20 columns]"
      ]
     },
     "execution_count": 21,
     "metadata": {},
     "output_type": "execute_result"
    }
   ],
   "source": [
    "# Your code here \n",
    "\n",
    "austin.drop(columns=['PrecipitationSumInches'], inplace=True)\n",
    "\n",
    "# Print `austin` to confirm the column is indeed removed\n",
    "\n",
    "austin"
   ]
  },
  {
   "cell_type": "markdown",
   "metadata": {
    "id": "zVdvqBJRt-_-"
   },
   "source": [
    "#### Next we will perform linear interpolation of the missing data.\n",
    "\n",
    "This means that we will use a linear algorithm to estimate the missing data. Linear interpolation assumes that there is a straight line between the points and the missing point will fall on that line. This is a good enough approximation for weather related data. Weather related data is typically a time series. Therefore, we do not want to drop rows from our data if possible. It is prefereable to estimate the missing values rather than remove the rows. However, if you have data from a single point in time, perhaps a better solution would be to remove the rows. \n",
    "\n",
    "If you would like to read more about linear interpolation, you can do so [here](https://en.wikipedia.org/wiki/Linear_interpolation).\n",
    "\n",
    "In the following cell, use the `.interpolate()` function on the entire dataframe. This time pass the `inplace=False` argument to the function and assign the interpolated dataframe to a new variable called `austin_fixed` so that we can compare with `austin`."
   ]
  },
  {
   "cell_type": "code",
   "execution_count": 22,
   "metadata": {
    "executionInfo": {
     "elapsed": 861,
     "status": "ok",
     "timestamp": 1627405286984,
     "user": {
      "displayName": "irving palacios",
      "photoUrl": "https://lh3.googleusercontent.com/a-/AOh14Gjw6M4LpzTUVro1G-5_aqYZYQhXb8NkvR-4cdiB=s64",
      "userId": "06814234566595318222"
     },
     "user_tz": 300
    },
    "id": "KGwQkoygt-_-"
   },
   "outputs": [],
   "source": [
    "# Your code here\n",
    "\n",
    "austin_fixed = austin.interpolate(axis=0)"
   ]
  },
  {
   "cell_type": "markdown",
   "metadata": {
    "id": "w40JLum2t-_-"
   },
   "source": [
    "#### Check to make sure `austin_fixed` contains no missing data. Also check `austin` - it still contains missing data."
   ]
  },
  {
   "cell_type": "code",
   "execution_count": 23,
   "metadata": {
    "colab": {
     "base_uri": "https://localhost:8080/"
    },
    "executionInfo": {
     "elapsed": 3,
     "status": "ok",
     "timestamp": 1627405288257,
     "user": {
      "displayName": "irving palacios",
      "photoUrl": "https://lh3.googleusercontent.com/a-/AOh14Gjw6M4LpzTUVro1G-5_aqYZYQhXb8NkvR-4cdiB=s64",
      "userId": "06814234566595318222"
     },
     "user_tz": 300
    },
    "id": "1Xle2P-bt-_-",
    "outputId": "364ec233-fa4a-4d28-fef2-2d6987a4d123"
   },
   "outputs": [
    {
     "data": {
      "text/plain": [
       "Date                          0\n",
       "TempHighF                     0\n",
       "TempAvgF                      0\n",
       "TempLowF                      0\n",
       "DewPointHighF                 0\n",
       "DewPointAvgF                  0\n",
       "DewPointLowF                  0\n",
       "HumidityHighPercent           0\n",
       "HumidityAvgPercent            0\n",
       "HumidityLowPercent            0\n",
       "SeaLevelPressureHighInches    0\n",
       "SeaLevelPressureAvgInches     0\n",
       "SeaLevelPressureLowInches     0\n",
       "VisibilityHighMiles           0\n",
       "VisibilityAvgMiles            0\n",
       "VisibilityLowMiles            0\n",
       "WindHighMPH                   0\n",
       "WindAvgMPH                    0\n",
       "WindGustMPH                   0\n",
       "Events                        0\n",
       "dtype: int64"
      ]
     },
     "execution_count": 23,
     "metadata": {},
     "output_type": "execute_result"
    }
   ],
   "source": [
    "# Your code here\n",
    "austin_fixed.isna().sum()"
   ]
  },
  {
   "cell_type": "markdown",
   "metadata": {
    "id": "lkpQtLmkt-_-"
   },
   "source": [
    "# Challenge 3 - Processing the `Events` Column"
   ]
  },
  {
   "cell_type": "markdown",
   "metadata": {
    "id": "RTxND3HWt-__"
   },
   "source": [
    "#### Our dataframe contains one true text column - the Events column. We should evaluate this column to determine how to process it.\n",
    "\n",
    "Use the `value_counts()` function to evaluate the contents of this column"
   ]
  },
  {
   "cell_type": "code",
   "execution_count": 24,
   "metadata": {
    "colab": {
     "base_uri": "https://localhost:8080/"
    },
    "executionInfo": {
     "elapsed": 8,
     "status": "ok",
     "timestamp": 1627405310111,
     "user": {
      "displayName": "irving palacios",
      "photoUrl": "https://lh3.googleusercontent.com/a-/AOh14Gjw6M4LpzTUVro1G-5_aqYZYQhXb8NkvR-4cdiB=s64",
      "userId": "06814234566595318222"
     },
     "user_tz": 300
    },
    "id": "F75flH5Pt-__",
    "outputId": "d3edbb6b-ec0c-4a2f-b793-bd54294931e7"
   },
   "outputs": [
    {
     "data": {
      "text/plain": [
       "                             903\n",
       "Rain                         192\n",
       "Rain , Thunderstorm          137\n",
       "Fog , Rain , Thunderstorm     33\n",
       "Fog                           21\n",
       "Thunderstorm                  17\n",
       "Fog , Rain                    14\n",
       "Fog , Thunderstorm             1\n",
       "Rain , Snow                    1\n",
       "Name: Events, dtype: int64"
      ]
     },
     "execution_count": 24,
     "metadata": {},
     "output_type": "execute_result"
    }
   ],
   "source": [
    "# Your code here:\n",
    "austin_fixed.Events.value_counts()"
   ]
  },
  {
   "cell_type": "markdown",
   "metadata": {
    "id": "c9pJd3yat-__"
   },
   "source": [
    "Reading the values of `Events` and reflecting what those values mean in the context of data, you realize this column indicates what weather events had happened in a particular day.\n",
    "\n",
    "#### What is the largest number of events happened in a single day? Enter your answer in the next cell."
   ]
  },
  {
   "cell_type": "code",
   "execution_count": 25,
   "metadata": {
    "executionInfo": {
     "elapsed": 304,
     "status": "ok",
     "timestamp": 1627403836918,
     "user": {
      "displayName": "irving palacios",
      "photoUrl": "https://lh3.googleusercontent.com/a-/AOh14Gjw6M4LpzTUVro1G-5_aqYZYQhXb8NkvR-4cdiB=s64",
      "userId": "06814234566595318222"
     },
     "user_tz": 300
    },
    "id": "JhZY8yeXt-__"
   },
   "outputs": [],
   "source": [
    "# Your answer:\n",
    "\n",
    "# The third row, which are Fog, Rain, Thunderstorm"
   ]
  },
  {
   "cell_type": "markdown",
   "metadata": {
    "id": "lZ8UiQw1t-__"
   },
   "source": [
    "#### We want to transform the string-type `Events` values to the numbers. This will allow us to apply machine learning algorithms easily.\n",
    "\n",
    "How? We will create a new column for each type of events (i.e. *Rain*, *Snow*, *Fog*, *Thunderstorm*. In each column, we use `1` to indicate if the corresponding event happened in that day and use `0` otherwise.\n",
    "\n",
    "Below we provide you a list of all event types. Loop the list and create a dummy column with `0` values for each event in `austin_fixed`. To create a new dummy column with `0` values, simply use `austin_fixed[event] = 0`."
   ]
  },
  {
   "cell_type": "code",
   "execution_count": 26,
   "metadata": {
    "executionInfo": {
     "elapsed": 349,
     "status": "ok",
     "timestamp": 1627405342132,
     "user": {
      "displayName": "irving palacios",
      "photoUrl": "https://lh3.googleusercontent.com/a-/AOh14Gjw6M4LpzTUVro1G-5_aqYZYQhXb8NkvR-4cdiB=s64",
      "userId": "06814234566595318222"
     },
     "user_tz": 300
    },
    "id": "qg2C5LEu19ca"
   },
   "outputs": [],
   "source": [
    "#austin_fixed_copy = austin_fixed.copy()"
   ]
  },
  {
   "cell_type": "code",
   "execution_count": 27,
   "metadata": {
    "colab": {
     "base_uri": "https://localhost:8080/",
     "height": 309
    },
    "executionInfo": {
     "elapsed": 776,
     "status": "ok",
     "timestamp": 1627405354228,
     "user": {
      "displayName": "irving palacios",
      "photoUrl": "https://lh3.googleusercontent.com/a-/AOh14Gjw6M4LpzTUVro1G-5_aqYZYQhXb8NkvR-4cdiB=s64",
      "userId": "06814234566595318222"
     },
     "user_tz": 300
    },
    "id": "XL9vNiaxt_AA",
    "outputId": "36ecca9e-7750-4138-98f1-fa40fe8e338f"
   },
   "outputs": [
    {
     "data": {
      "text/html": [
       "<div>\n",
       "<style scoped>\n",
       "    .dataframe tbody tr th:only-of-type {\n",
       "        vertical-align: middle;\n",
       "    }\n",
       "\n",
       "    .dataframe tbody tr th {\n",
       "        vertical-align: top;\n",
       "    }\n",
       "\n",
       "    .dataframe thead th {\n",
       "        text-align: right;\n",
       "    }\n",
       "</style>\n",
       "<table border=\"1\" class=\"dataframe\">\n",
       "  <thead>\n",
       "    <tr style=\"text-align: right;\">\n",
       "      <th></th>\n",
       "      <th>Date</th>\n",
       "      <th>TempHighF</th>\n",
       "      <th>TempAvgF</th>\n",
       "      <th>TempLowF</th>\n",
       "      <th>DewPointHighF</th>\n",
       "      <th>DewPointAvgF</th>\n",
       "      <th>DewPointLowF</th>\n",
       "      <th>HumidityHighPercent</th>\n",
       "      <th>HumidityAvgPercent</th>\n",
       "      <th>HumidityLowPercent</th>\n",
       "      <th>...</th>\n",
       "      <th>VisibilityAvgMiles</th>\n",
       "      <th>VisibilityLowMiles</th>\n",
       "      <th>WindHighMPH</th>\n",
       "      <th>WindAvgMPH</th>\n",
       "      <th>WindGustMPH</th>\n",
       "      <th>Events</th>\n",
       "      <th>Snow</th>\n",
       "      <th>Fog</th>\n",
       "      <th>Rain</th>\n",
       "      <th>Thunderstorm</th>\n",
       "    </tr>\n",
       "  </thead>\n",
       "  <tbody>\n",
       "    <tr>\n",
       "      <th>0</th>\n",
       "      <td>2013-12-21</td>\n",
       "      <td>74</td>\n",
       "      <td>60</td>\n",
       "      <td>45</td>\n",
       "      <td>67.0</td>\n",
       "      <td>49.0</td>\n",
       "      <td>43.0</td>\n",
       "      <td>93.0</td>\n",
       "      <td>75.0</td>\n",
       "      <td>57.0</td>\n",
       "      <td>...</td>\n",
       "      <td>7.0</td>\n",
       "      <td>2.0</td>\n",
       "      <td>20.0</td>\n",
       "      <td>4.0</td>\n",
       "      <td>31.0</td>\n",
       "      <td>Rain , Thunderstorm</td>\n",
       "      <td>0</td>\n",
       "      <td>0</td>\n",
       "      <td>0</td>\n",
       "      <td>0</td>\n",
       "    </tr>\n",
       "    <tr>\n",
       "      <th>1</th>\n",
       "      <td>2013-12-22</td>\n",
       "      <td>56</td>\n",
       "      <td>48</td>\n",
       "      <td>39</td>\n",
       "      <td>43.0</td>\n",
       "      <td>36.0</td>\n",
       "      <td>28.0</td>\n",
       "      <td>93.0</td>\n",
       "      <td>68.0</td>\n",
       "      <td>43.0</td>\n",
       "      <td>...</td>\n",
       "      <td>10.0</td>\n",
       "      <td>5.0</td>\n",
       "      <td>16.0</td>\n",
       "      <td>6.0</td>\n",
       "      <td>25.0</td>\n",
       "      <td></td>\n",
       "      <td>0</td>\n",
       "      <td>0</td>\n",
       "      <td>0</td>\n",
       "      <td>0</td>\n",
       "    </tr>\n",
       "    <tr>\n",
       "      <th>2</th>\n",
       "      <td>2013-12-23</td>\n",
       "      <td>58</td>\n",
       "      <td>45</td>\n",
       "      <td>32</td>\n",
       "      <td>31.0</td>\n",
       "      <td>27.0</td>\n",
       "      <td>23.0</td>\n",
       "      <td>76.0</td>\n",
       "      <td>52.0</td>\n",
       "      <td>27.0</td>\n",
       "      <td>...</td>\n",
       "      <td>10.0</td>\n",
       "      <td>10.0</td>\n",
       "      <td>8.0</td>\n",
       "      <td>3.0</td>\n",
       "      <td>12.0</td>\n",
       "      <td></td>\n",
       "      <td>0</td>\n",
       "      <td>0</td>\n",
       "      <td>0</td>\n",
       "      <td>0</td>\n",
       "    </tr>\n",
       "    <tr>\n",
       "      <th>3</th>\n",
       "      <td>2013-12-24</td>\n",
       "      <td>61</td>\n",
       "      <td>46</td>\n",
       "      <td>31</td>\n",
       "      <td>36.0</td>\n",
       "      <td>28.0</td>\n",
       "      <td>21.0</td>\n",
       "      <td>89.0</td>\n",
       "      <td>56.0</td>\n",
       "      <td>22.0</td>\n",
       "      <td>...</td>\n",
       "      <td>10.0</td>\n",
       "      <td>7.0</td>\n",
       "      <td>12.0</td>\n",
       "      <td>4.0</td>\n",
       "      <td>20.0</td>\n",
       "      <td></td>\n",
       "      <td>0</td>\n",
       "      <td>0</td>\n",
       "      <td>0</td>\n",
       "      <td>0</td>\n",
       "    </tr>\n",
       "    <tr>\n",
       "      <th>4</th>\n",
       "      <td>2013-12-25</td>\n",
       "      <td>58</td>\n",
       "      <td>50</td>\n",
       "      <td>41</td>\n",
       "      <td>44.0</td>\n",
       "      <td>40.0</td>\n",
       "      <td>36.0</td>\n",
       "      <td>86.0</td>\n",
       "      <td>71.0</td>\n",
       "      <td>56.0</td>\n",
       "      <td>...</td>\n",
       "      <td>10.0</td>\n",
       "      <td>7.0</td>\n",
       "      <td>10.0</td>\n",
       "      <td>2.0</td>\n",
       "      <td>16.0</td>\n",
       "      <td></td>\n",
       "      <td>0</td>\n",
       "      <td>0</td>\n",
       "      <td>0</td>\n",
       "      <td>0</td>\n",
       "    </tr>\n",
       "  </tbody>\n",
       "</table>\n",
       "<p>5 rows × 24 columns</p>\n",
       "</div>"
      ],
      "text/plain": [
       "         Date  TempHighF  TempAvgF  TempLowF  DewPointHighF  DewPointAvgF  \\\n",
       "0  2013-12-21         74        60        45           67.0          49.0   \n",
       "1  2013-12-22         56        48        39           43.0          36.0   \n",
       "2  2013-12-23         58        45        32           31.0          27.0   \n",
       "3  2013-12-24         61        46        31           36.0          28.0   \n",
       "4  2013-12-25         58        50        41           44.0          40.0   \n",
       "\n",
       "   DewPointLowF  HumidityHighPercent  HumidityAvgPercent  HumidityLowPercent  \\\n",
       "0          43.0                 93.0                75.0                57.0   \n",
       "1          28.0                 93.0                68.0                43.0   \n",
       "2          23.0                 76.0                52.0                27.0   \n",
       "3          21.0                 89.0                56.0                22.0   \n",
       "4          36.0                 86.0                71.0                56.0   \n",
       "\n",
       "   ...  VisibilityAvgMiles  VisibilityLowMiles  WindHighMPH  WindAvgMPH  \\\n",
       "0  ...                 7.0                 2.0         20.0         4.0   \n",
       "1  ...                10.0                 5.0         16.0         6.0   \n",
       "2  ...                10.0                10.0          8.0         3.0   \n",
       "3  ...                10.0                 7.0         12.0         4.0   \n",
       "4  ...                10.0                 7.0         10.0         2.0   \n",
       "\n",
       "   WindGustMPH               Events  Snow  Fog  Rain Thunderstorm  \n",
       "0         31.0  Rain , Thunderstorm     0    0     0            0  \n",
       "1         25.0                          0    0     0            0  \n",
       "2         12.0                          0    0     0            0  \n",
       "3         20.0                          0    0     0            0  \n",
       "4         16.0                          0    0     0            0  \n",
       "\n",
       "[5 rows x 24 columns]"
      ]
     },
     "execution_count": 27,
     "metadata": {},
     "output_type": "execute_result"
    }
   ],
   "source": [
    "event_list = ['Snow', 'Fog', 'Rain', 'Thunderstorm']\n",
    "\n",
    "# Your code here\n",
    "\n",
    "for column in event_list:\n",
    "  austin_fixed[column] = 0\n",
    "\n",
    "# Print your new dataframe to check whether new columns have been created:\n",
    "\n",
    "austin_fixed.head(5)"
   ]
  },
  {
   "cell_type": "markdown",
   "metadata": {
    "id": "oIyw8ZN-t_AA"
   },
   "source": [
    "#### Next, populate the actual values in the dummy columns of  `austin_fixed`.\n",
    "\n",
    "You will check the *Events* column. If its string value contains `Rain`, then the *Rain* column should be `1`. The same for `Snow`, `Fog`, and `Thunderstorm`.\n",
    "\n",
    "*Hints:*\n",
    "\n",
    "* Use [`pandas.Series.str.contains()`](https://pandas.pydata.org/pandas-docs/stable/generated/pandas.Series.str.contains.html) to create the value series of each new column.\n",
    "\n",
    "* What if the values you populated are booleans instead of numbers? You can cast the boolean values to numbers by using `.astype(int)`. For instance, `pd.Series([True, True, False]).astype(int)` will return a new series with values of `[1, 1, 0]`."
   ]
  },
  {
   "cell_type": "code",
   "execution_count": 28,
   "metadata": {
    "executionInfo": {
     "elapsed": 95,
     "status": "ok",
     "timestamp": 1627407566758,
     "user": {
      "displayName": "irving palacios",
      "photoUrl": "https://lh3.googleusercontent.com/a-/AOh14Gjw6M4LpzTUVro1G-5_aqYZYQhXb8NkvR-4cdiB=s64",
      "userId": "06814234566595318222"
     },
     "user_tz": 300
    },
    "id": "kCN3GvFUt_AA"
   },
   "outputs": [],
   "source": [
    "# Your code here\n",
    "\n",
    "for i in event_list:\n",
    "  austin_fixed[i] = austin_fixed['Events'].str.contains(i, regex=False).astype(int)\n"
   ]
  },
  {
   "cell_type": "markdown",
   "metadata": {
    "id": "JdjOAP0Zt_AA"
   },
   "source": [
    "#### Print out `austin_fixed` to check if the event columns are populated with the intended values"
   ]
  },
  {
   "cell_type": "code",
   "execution_count": 29,
   "metadata": {
    "colab": {
     "base_uri": "https://localhost:8080/",
     "height": 204
    },
    "executionInfo": {
     "elapsed": 122,
     "status": "ok",
     "timestamp": 1627407620072,
     "user": {
      "displayName": "irving palacios",
      "photoUrl": "https://lh3.googleusercontent.com/a-/AOh14Gjw6M4LpzTUVro1G-5_aqYZYQhXb8NkvR-4cdiB=s64",
      "userId": "06814234566595318222"
     },
     "user_tz": 300
    },
    "id": "zx43J1NHt_AA",
    "outputId": "a747e558-939f-4a73-c05e-eae27d82c84f"
   },
   "outputs": [
    {
     "data": {
      "text/html": [
       "<div>\n",
       "<style scoped>\n",
       "    .dataframe tbody tr th:only-of-type {\n",
       "        vertical-align: middle;\n",
       "    }\n",
       "\n",
       "    .dataframe tbody tr th {\n",
       "        vertical-align: top;\n",
       "    }\n",
       "\n",
       "    .dataframe thead th {\n",
       "        text-align: right;\n",
       "    }\n",
       "</style>\n",
       "<table border=\"1\" class=\"dataframe\">\n",
       "  <thead>\n",
       "    <tr style=\"text-align: right;\">\n",
       "      <th></th>\n",
       "      <th>Events</th>\n",
       "      <th>Snow</th>\n",
       "      <th>Fog</th>\n",
       "      <th>Rain</th>\n",
       "      <th>Thunderstorm</th>\n",
       "    </tr>\n",
       "  </thead>\n",
       "  <tbody>\n",
       "    <tr>\n",
       "      <th>0</th>\n",
       "      <td>Rain , Thunderstorm</td>\n",
       "      <td>0</td>\n",
       "      <td>0</td>\n",
       "      <td>1</td>\n",
       "      <td>1</td>\n",
       "    </tr>\n",
       "    <tr>\n",
       "      <th>1</th>\n",
       "      <td></td>\n",
       "      <td>0</td>\n",
       "      <td>0</td>\n",
       "      <td>0</td>\n",
       "      <td>0</td>\n",
       "    </tr>\n",
       "    <tr>\n",
       "      <th>2</th>\n",
       "      <td></td>\n",
       "      <td>0</td>\n",
       "      <td>0</td>\n",
       "      <td>0</td>\n",
       "      <td>0</td>\n",
       "    </tr>\n",
       "    <tr>\n",
       "      <th>3</th>\n",
       "      <td></td>\n",
       "      <td>0</td>\n",
       "      <td>0</td>\n",
       "      <td>0</td>\n",
       "      <td>0</td>\n",
       "    </tr>\n",
       "    <tr>\n",
       "      <th>4</th>\n",
       "      <td></td>\n",
       "      <td>0</td>\n",
       "      <td>0</td>\n",
       "      <td>0</td>\n",
       "      <td>0</td>\n",
       "    </tr>\n",
       "  </tbody>\n",
       "</table>\n",
       "</div>"
      ],
      "text/plain": [
       "                Events  Snow  Fog  Rain  Thunderstorm\n",
       "0  Rain , Thunderstorm     0    0     1             1\n",
       "1                          0    0     0             0\n",
       "2                          0    0     0             0\n",
       "3                          0    0     0             0\n",
       "4                          0    0     0             0"
      ]
     },
     "execution_count": 29,
     "metadata": {},
     "output_type": "execute_result"
    }
   ],
   "source": [
    "# Your code here\n",
    "austin_fixed[['Events','Snow','Fog','Rain','Thunderstorm']].head()"
   ]
  },
  {
   "cell_type": "markdown",
   "metadata": {
    "id": "p-ESReuWt_AB"
   },
   "source": [
    "#### If your code worked correctly, now we can drop the `Events` column as we don't need it any more."
   ]
  },
  {
   "cell_type": "code",
   "execution_count": 30,
   "metadata": {
    "executionInfo": {
     "elapsed": 104,
     "status": "ok",
     "timestamp": 1627407671730,
     "user": {
      "displayName": "irving palacios",
      "photoUrl": "https://lh3.googleusercontent.com/a-/AOh14Gjw6M4LpzTUVro1G-5_aqYZYQhXb8NkvR-4cdiB=s64",
      "userId": "06814234566595318222"
     },
     "user_tz": 300
    },
    "id": "p0zosaktt_AB"
   },
   "outputs": [],
   "source": [
    "# Your code here\n",
    "\n",
    "austin_fixed.drop(columns=['Events'], inplace=True)"
   ]
  },
  {
   "cell_type": "markdown",
   "metadata": {
    "id": "4iH65EAat_AB"
   },
   "source": [
    "# Challenge 4 - Processing The `Date` Column\n",
    "\n",
    "The `Date` column is another non-numeric field in our dataset. A value in that field looks like `'2014-01-06'` which consists of the year, month, and day connected with hyphens. One way to convert the date string to numerical is using a similar approach as we used for `Events`, namely splitting the column into numerical `Year`, `Month`, and `Day` columns. In this challenge we'll show you another way which is to use the Python `datetime` library's `toordinal()` function. Depending on what actual machine learning analysis you will conduct, each approach has its pros and cons. Our goal today is to practice data preparation so we'll skip the discussion here.\n",
    "\n",
    "Here you can find the [reference](https://docs.python.org/3/library/datetime.html) and [example](https://stackoverflow.com/questions/39846918/convert-date-to-ordinal-python) for `toordinal`. The basic process is to first convert the string to a `datetime` object using `datetime.datetime.strptime`, then convert the `datetime` object to numerical using `toordinal`.\n",
    "\n",
    "#### In the cell below, convert the `Date` column values from string to numeric values using `toordinal()`."
   ]
  },
  {
   "cell_type": "code",
   "execution_count": 31,
   "metadata": {
    "executionInfo": {
     "elapsed": 93,
     "status": "ok",
     "timestamp": 1627408090760,
     "user": {
      "displayName": "irving palacios",
      "photoUrl": "https://lh3.googleusercontent.com/a-/AOh14Gjw6M4LpzTUVro1G-5_aqYZYQhXb8NkvR-4cdiB=s64",
      "userId": "06814234566595318222"
     },
     "user_tz": 300
    },
    "id": "QpgkBzLlFLuk"
   },
   "outputs": [],
   "source": [
    "from datetime import datetime as dt"
   ]
  },
  {
   "cell_type": "code",
   "execution_count": 32,
   "metadata": {
    "colab": {
     "base_uri": "https://localhost:8080/"
    },
    "executionInfo": {
     "elapsed": 109,
     "status": "ok",
     "timestamp": 1627408208420,
     "user": {
      "displayName": "irving palacios",
      "photoUrl": "https://lh3.googleusercontent.com/a-/AOh14Gjw6M4LpzTUVro1G-5_aqYZYQhXb8NkvR-4cdiB=s64",
      "userId": "06814234566595318222"
     },
     "user_tz": 300
    },
    "id": "XCa_-AYqFUWS",
    "outputId": "47e90c76-b57c-4e1c-a0aa-8f2e80c5cecd"
   },
   "outputs": [
    {
     "data": {
      "text/plain": [
       "Date                           object\n",
       "TempHighF                       int64\n",
       "TempAvgF                        int64\n",
       "TempLowF                        int64\n",
       "DewPointHighF                 float64\n",
       "DewPointAvgF                  float64\n",
       "DewPointLowF                  float64\n",
       "HumidityHighPercent           float64\n",
       "HumidityAvgPercent            float64\n",
       "HumidityLowPercent            float64\n",
       "SeaLevelPressureHighInches    float64\n",
       "SeaLevelPressureAvgInches     float64\n",
       "SeaLevelPressureLowInches     float64\n",
       "VisibilityHighMiles           float64\n",
       "VisibilityAvgMiles            float64\n",
       "VisibilityLowMiles            float64\n",
       "WindHighMPH                   float64\n",
       "WindAvgMPH                    float64\n",
       "WindGustMPH                   float64\n",
       "Snow                            int64\n",
       "Fog                             int64\n",
       "Rain                            int64\n",
       "Thunderstorm                    int64\n",
       "dtype: object"
      ]
     },
     "execution_count": 32,
     "metadata": {},
     "output_type": "execute_result"
    }
   ],
   "source": [
    "austin_fixed.dtypes"
   ]
  },
  {
   "cell_type": "code",
   "execution_count": 33,
   "metadata": {
    "colab": {
     "base_uri": "https://localhost:8080/"
    },
    "executionInfo": {
     "elapsed": 121,
     "status": "ok",
     "timestamp": 1627409127675,
     "user": {
      "displayName": "irving palacios",
      "photoUrl": "https://lh3.googleusercontent.com/a-/AOh14Gjw6M4LpzTUVro1G-5_aqYZYQhXb8NkvR-4cdiB=s64",
      "userId": "06814234566595318222"
     },
     "user_tz": 300
    },
    "id": "cab0TlRIt_AC",
    "outputId": "b056c82c-d25d-4e45-ecce-e41a0fa46f9d"
   },
   "outputs": [
    {
     "name": "stderr",
     "output_type": "stream",
     "text": [
      "<ipython-input-33-44ce32357c78>:4: SettingWithCopyWarning: \n",
      "A value is trying to be set on a copy of a slice from a DataFrame\n",
      "\n",
      "See the caveats in the documentation: https://pandas.pydata.org/pandas-docs/stable/user_guide/indexing.html#returning-a-view-versus-a-copy\n",
      "  austin_fixed['Date'][i] = dt.strptime( austin_fixed['Date'][i],'%Y-%m-%d').date().toordinal()\n"
     ]
    }
   ],
   "source": [
    "# Your code here\n",
    "\n",
    "for i in range(len(austin_fixed)):\n",
    "  austin_fixed['Date'][i] = dt.strptime( austin_fixed['Date'][i],'%Y-%m-%d').date().toordinal()"
   ]
  },
  {
   "cell_type": "markdown",
   "metadata": {
    "id": "NpNHQwcvt_AC"
   },
   "source": [
    "#### Print `austin_fixed` to check your `Date` column."
   ]
  },
  {
   "cell_type": "code",
   "execution_count": 34,
   "metadata": {
    "colab": {
     "base_uri": "https://localhost:8080/",
     "height": 224
    },
    "executionInfo": {
     "elapsed": 98,
     "status": "ok",
     "timestamp": 1627409147291,
     "user": {
      "displayName": "irving palacios",
      "photoUrl": "https://lh3.googleusercontent.com/a-/AOh14Gjw6M4LpzTUVro1G-5_aqYZYQhXb8NkvR-4cdiB=s64",
      "userId": "06814234566595318222"
     },
     "user_tz": 300
    },
    "id": "x_xc1fX2t_AC",
    "outputId": "6727d4b1-26a9-4e61-cbdc-632b49f029a0"
   },
   "outputs": [
    {
     "data": {
      "text/html": [
       "<div>\n",
       "<style scoped>\n",
       "    .dataframe tbody tr th:only-of-type {\n",
       "        vertical-align: middle;\n",
       "    }\n",
       "\n",
       "    .dataframe tbody tr th {\n",
       "        vertical-align: top;\n",
       "    }\n",
       "\n",
       "    .dataframe thead th {\n",
       "        text-align: right;\n",
       "    }\n",
       "</style>\n",
       "<table border=\"1\" class=\"dataframe\">\n",
       "  <thead>\n",
       "    <tr style=\"text-align: right;\">\n",
       "      <th></th>\n",
       "      <th>Date</th>\n",
       "      <th>TempHighF</th>\n",
       "      <th>TempAvgF</th>\n",
       "      <th>TempLowF</th>\n",
       "      <th>DewPointHighF</th>\n",
       "      <th>DewPointAvgF</th>\n",
       "      <th>DewPointLowF</th>\n",
       "      <th>HumidityHighPercent</th>\n",
       "      <th>HumidityAvgPercent</th>\n",
       "      <th>HumidityLowPercent</th>\n",
       "      <th>...</th>\n",
       "      <th>VisibilityHighMiles</th>\n",
       "      <th>VisibilityAvgMiles</th>\n",
       "      <th>VisibilityLowMiles</th>\n",
       "      <th>WindHighMPH</th>\n",
       "      <th>WindAvgMPH</th>\n",
       "      <th>WindGustMPH</th>\n",
       "      <th>Snow</th>\n",
       "      <th>Fog</th>\n",
       "      <th>Rain</th>\n",
       "      <th>Thunderstorm</th>\n",
       "    </tr>\n",
       "  </thead>\n",
       "  <tbody>\n",
       "    <tr>\n",
       "      <th>0</th>\n",
       "      <td>735223</td>\n",
       "      <td>74</td>\n",
       "      <td>60</td>\n",
       "      <td>45</td>\n",
       "      <td>67.0</td>\n",
       "      <td>49.0</td>\n",
       "      <td>43.0</td>\n",
       "      <td>93.0</td>\n",
       "      <td>75.0</td>\n",
       "      <td>57.0</td>\n",
       "      <td>...</td>\n",
       "      <td>10.0</td>\n",
       "      <td>7.0</td>\n",
       "      <td>2.0</td>\n",
       "      <td>20.0</td>\n",
       "      <td>4.0</td>\n",
       "      <td>31.0</td>\n",
       "      <td>0</td>\n",
       "      <td>0</td>\n",
       "      <td>1</td>\n",
       "      <td>1</td>\n",
       "    </tr>\n",
       "    <tr>\n",
       "      <th>1</th>\n",
       "      <td>735224</td>\n",
       "      <td>56</td>\n",
       "      <td>48</td>\n",
       "      <td>39</td>\n",
       "      <td>43.0</td>\n",
       "      <td>36.0</td>\n",
       "      <td>28.0</td>\n",
       "      <td>93.0</td>\n",
       "      <td>68.0</td>\n",
       "      <td>43.0</td>\n",
       "      <td>...</td>\n",
       "      <td>10.0</td>\n",
       "      <td>10.0</td>\n",
       "      <td>5.0</td>\n",
       "      <td>16.0</td>\n",
       "      <td>6.0</td>\n",
       "      <td>25.0</td>\n",
       "      <td>0</td>\n",
       "      <td>0</td>\n",
       "      <td>0</td>\n",
       "      <td>0</td>\n",
       "    </tr>\n",
       "    <tr>\n",
       "      <th>2</th>\n",
       "      <td>735225</td>\n",
       "      <td>58</td>\n",
       "      <td>45</td>\n",
       "      <td>32</td>\n",
       "      <td>31.0</td>\n",
       "      <td>27.0</td>\n",
       "      <td>23.0</td>\n",
       "      <td>76.0</td>\n",
       "      <td>52.0</td>\n",
       "      <td>27.0</td>\n",
       "      <td>...</td>\n",
       "      <td>10.0</td>\n",
       "      <td>10.0</td>\n",
       "      <td>10.0</td>\n",
       "      <td>8.0</td>\n",
       "      <td>3.0</td>\n",
       "      <td>12.0</td>\n",
       "      <td>0</td>\n",
       "      <td>0</td>\n",
       "      <td>0</td>\n",
       "      <td>0</td>\n",
       "    </tr>\n",
       "    <tr>\n",
       "      <th>3</th>\n",
       "      <td>735226</td>\n",
       "      <td>61</td>\n",
       "      <td>46</td>\n",
       "      <td>31</td>\n",
       "      <td>36.0</td>\n",
       "      <td>28.0</td>\n",
       "      <td>21.0</td>\n",
       "      <td>89.0</td>\n",
       "      <td>56.0</td>\n",
       "      <td>22.0</td>\n",
       "      <td>...</td>\n",
       "      <td>10.0</td>\n",
       "      <td>10.0</td>\n",
       "      <td>7.0</td>\n",
       "      <td>12.0</td>\n",
       "      <td>4.0</td>\n",
       "      <td>20.0</td>\n",
       "      <td>0</td>\n",
       "      <td>0</td>\n",
       "      <td>0</td>\n",
       "      <td>0</td>\n",
       "    </tr>\n",
       "    <tr>\n",
       "      <th>4</th>\n",
       "      <td>735227</td>\n",
       "      <td>58</td>\n",
       "      <td>50</td>\n",
       "      <td>41</td>\n",
       "      <td>44.0</td>\n",
       "      <td>40.0</td>\n",
       "      <td>36.0</td>\n",
       "      <td>86.0</td>\n",
       "      <td>71.0</td>\n",
       "      <td>56.0</td>\n",
       "      <td>...</td>\n",
       "      <td>10.0</td>\n",
       "      <td>10.0</td>\n",
       "      <td>7.0</td>\n",
       "      <td>10.0</td>\n",
       "      <td>2.0</td>\n",
       "      <td>16.0</td>\n",
       "      <td>0</td>\n",
       "      <td>0</td>\n",
       "      <td>0</td>\n",
       "      <td>0</td>\n",
       "    </tr>\n",
       "  </tbody>\n",
       "</table>\n",
       "<p>5 rows × 23 columns</p>\n",
       "</div>"
      ],
      "text/plain": [
       "     Date  TempHighF  TempAvgF  TempLowF  DewPointHighF  DewPointAvgF  \\\n",
       "0  735223         74        60        45           67.0          49.0   \n",
       "1  735224         56        48        39           43.0          36.0   \n",
       "2  735225         58        45        32           31.0          27.0   \n",
       "3  735226         61        46        31           36.0          28.0   \n",
       "4  735227         58        50        41           44.0          40.0   \n",
       "\n",
       "   DewPointLowF  HumidityHighPercent  HumidityAvgPercent  HumidityLowPercent  \\\n",
       "0          43.0                 93.0                75.0                57.0   \n",
       "1          28.0                 93.0                68.0                43.0   \n",
       "2          23.0                 76.0                52.0                27.0   \n",
       "3          21.0                 89.0                56.0                22.0   \n",
       "4          36.0                 86.0                71.0                56.0   \n",
       "\n",
       "   ...  VisibilityHighMiles  VisibilityAvgMiles  VisibilityLowMiles  \\\n",
       "0  ...                 10.0                 7.0                 2.0   \n",
       "1  ...                 10.0                10.0                 5.0   \n",
       "2  ...                 10.0                10.0                10.0   \n",
       "3  ...                 10.0                10.0                 7.0   \n",
       "4  ...                 10.0                10.0                 7.0   \n",
       "\n",
       "   WindHighMPH  WindAvgMPH  WindGustMPH  Snow  Fog  Rain  Thunderstorm  \n",
       "0         20.0         4.0         31.0     0    0     1             1  \n",
       "1         16.0         6.0         25.0     0    0     0             0  \n",
       "2          8.0         3.0         12.0     0    0     0             0  \n",
       "3         12.0         4.0         20.0     0    0     0             0  \n",
       "4         10.0         2.0         16.0     0    0     0             0  \n",
       "\n",
       "[5 rows x 23 columns]"
      ]
     },
     "execution_count": 34,
     "metadata": {},
     "output_type": "execute_result"
    }
   ],
   "source": [
    "austin_fixed.head(5)"
   ]
  },
  {
   "cell_type": "code",
   "execution_count": 35,
   "metadata": {
    "colab": {
     "base_uri": "https://localhost:8080/"
    },
    "executionInfo": {
     "elapsed": 139,
     "status": "ok",
     "timestamp": 1627411952248,
     "user": {
      "displayName": "irving palacios",
      "photoUrl": "https://lh3.googleusercontent.com/a-/AOh14Gjw6M4LpzTUVro1G-5_aqYZYQhXb8NkvR-4cdiB=s64",
      "userId": "06814234566595318222"
     },
     "user_tz": 300
    },
    "id": "nMnx-isET6EX",
    "outputId": "180cffb7-d392-4e7f-b45e-d9c77381a771"
   },
   "outputs": [
    {
     "data": {
      "text/plain": [
       "(1319, 23)"
      ]
     },
     "execution_count": 35,
     "metadata": {},
     "output_type": "execute_result"
    }
   ],
   "source": [
    "austin_fixed.shape"
   ]
  },
  {
   "cell_type": "markdown",
   "metadata": {
    "id": "LAopawy3t_AC"
   },
   "source": [
    "# Challenge 5 - Sampling and Holdout Sets"
   ]
  },
  {
   "cell_type": "markdown",
   "metadata": {
    "id": "7KEgmpcot_AC"
   },
   "source": [
    "#### Now that we have processed the data for machine learning, we will separate the data to test and training sets.\n",
    "\n",
    "We first train the model using only the training set. We check our metrics on the training set. We then apply the model to the test set and check our metrics on the test set as well. If the metrics are significantly more optimal on the training set, then we know we have overfit our model. We will need to revise our model to ensure it will be more applicable to data outside the test set."
   ]
  },
  {
   "cell_type": "markdown",
   "metadata": {
    "id": "R8kDRMCmt_AD"
   },
   "source": [
    "#### In the next cells we will separate the data into a training set and a test set using the `train_test_split()` function in scikit-learn.\n",
    "\n",
    "When using `scikit-learn` for machine learning, we first separate the data to predictor and response variables. This is the standard way of passing datasets into a model in `scikit-learn`. The `scikit-learn` will then find out whether the predictors and responses fit the model.\n",
    "\n",
    "In the next cell, assign the `TempAvgF` column to `y` and the remaining columns to `X`. Your `X` should be a subset of `austin_fixed` containing the following columns: \n",
    "\n",
    "```['Date',\n",
    " 'TempHighF',\n",
    " 'TempLowF',\n",
    " 'DewPointHighF',\n",
    " 'DewPointAvgF',\n",
    " 'DewPointLowF',\n",
    " 'HumidityHighPercent',\n",
    " 'HumidityAvgPercent',\n",
    " 'HumidityLowPercent',\n",
    " 'SeaLevelPressureHighInches',\n",
    " 'SeaLevelPressureAvgInches',\n",
    " 'SeaLevelPressureLowInches',\n",
    " 'VisibilityHighMiles',\n",
    " 'VisibilityAvgMiles',\n",
    " 'VisibilityLowMiles',\n",
    " 'WindHighMPH',\n",
    " 'WindAvgMPH',\n",
    " 'WindGustMPH',\n",
    " 'Snow',\n",
    " 'Fog',\n",
    " 'Rain',\n",
    " 'Thunderstorm']```\n",
    " \n",
    " Your `y` should be a subset of `austin_fixed` containing one column `TempAvgF`."
   ]
  },
  {
   "cell_type": "code",
   "execution_count": 36,
   "metadata": {
    "executionInfo": {
     "elapsed": 1184,
     "status": "ok",
     "timestamp": 1627410293436,
     "user": {
      "displayName": "irving palacios",
      "photoUrl": "https://lh3.googleusercontent.com/a-/AOh14Gjw6M4LpzTUVro1G-5_aqYZYQhXb8NkvR-4cdiB=s64",
      "userId": "06814234566595318222"
     },
     "user_tz": 300
    },
    "id": "uL7GlkukNk4o"
   },
   "outputs": [],
   "source": [
    "from sklearn.model_selection import train_test_split"
   ]
  },
  {
   "cell_type": "code",
   "execution_count": 37,
   "metadata": {
    "executionInfo": {
     "elapsed": 221,
     "status": "ok",
     "timestamp": 1627410723930,
     "user": {
      "displayName": "irving palacios",
      "photoUrl": "https://lh3.googleusercontent.com/a-/AOh14Gjw6M4LpzTUVro1G-5_aqYZYQhXb8NkvR-4cdiB=s64",
      "userId": "06814234566595318222"
     },
     "user_tz": 300
    },
    "id": "GDX5mfr8Ocjb"
   },
   "outputs": [],
   "source": [
    "cols = ['Date', 'TempHighF', 'TempLowF', 'DewPointHighF', 'DewPointAvgF', 'DewPointLowF', 'HumidityHighPercent', 'HumidityAvgPercent', 'HumidityLowPercent', 'SeaLevelPressureHighInches', 'SeaLevelPressureAvgInches', 'SeaLevelPressureLowInches', 'VisibilityHighMiles', 'VisibilityAvgMiles', 'VisibilityLowMiles', 'WindHighMPH', 'WindAvgMPH', 'WindGustMPH', 'Snow', 'Fog', 'Rain', 'Thunderstorm']"
   ]
  },
  {
   "cell_type": "code",
   "execution_count": 38,
   "metadata": {
    "executionInfo": {
     "elapsed": 176,
     "status": "ok",
     "timestamp": 1627410736117,
     "user": {
      "displayName": "irving palacios",
      "photoUrl": "https://lh3.googleusercontent.com/a-/AOh14Gjw6M4LpzTUVro1G-5_aqYZYQhXb8NkvR-4cdiB=s64",
      "userId": "06814234566595318222"
     },
     "user_tz": 300
    },
    "id": "9yzXY39Ct_AD"
   },
   "outputs": [],
   "source": [
    "# Your code here:\n",
    "\n",
    "y=austin_fixed['TempAvgF']\n",
    "X=austin_fixed[cols]"
   ]
  },
  {
   "cell_type": "markdown",
   "metadata": {
    "id": "_tnVTusRt_AD"
   },
   "source": [
    "In the next cell, import `train_test_split` from `sklearn.model_selection`"
   ]
  },
  {
   "cell_type": "code",
   "execution_count": 39,
   "metadata": {
    "executionInfo": {
     "elapsed": 12,
     "status": "aborted",
     "timestamp": 1627394597988,
     "user": {
      "displayName": "irving palacios",
      "photoUrl": "https://lh3.googleusercontent.com/a-/AOh14Gjw6M4LpzTUVro1G-5_aqYZYQhXb8NkvR-4cdiB=s64",
      "userId": "06814234566595318222"
     },
     "user_tz": 300
    },
    "id": "9W2IoWgBt_AD"
   },
   "outputs": [],
   "source": [
    "#Your code here:\n"
   ]
  },
  {
   "cell_type": "markdown",
   "metadata": {
    "id": "Ou86KyJKt_AD"
   },
   "source": [
    "Now that we have split the data to predictor and response variables and imported the `train_test_split()` function, split `X` and `y` into `X_train`, `X_test`, `y_train`, and `y_test`. 80% of the data should be in the training set and 20% in the test set. `train_test_split()` reference can be accessed [here](https://scikit-learn.org/stable/modules/generated/sklearn.model_selection.train_test_split.html).\n",
    "\n",
    "\n",
    "Enter your code in the cell below:"
   ]
  },
  {
   "cell_type": "code",
   "execution_count": 40,
   "metadata": {
    "executionInfo": {
     "elapsed": 120,
     "status": "ok",
     "timestamp": 1627410821552,
     "user": {
      "displayName": "irving palacios",
      "photoUrl": "https://lh3.googleusercontent.com/a-/AOh14Gjw6M4LpzTUVro1G-5_aqYZYQhXb8NkvR-4cdiB=s64",
      "userId": "06814234566595318222"
     },
     "user_tz": 300
    },
    "id": "b6QzjAsDt_AD"
   },
   "outputs": [],
   "source": [
    "#Your code here:\n",
    "X_train, X_test, y_train, y_test = train_test_split(X,y,test_size=0.2)"
   ]
  },
  {
   "cell_type": "markdown",
   "metadata": {
    "id": "dy10VB3jt_AE"
   },
   "source": [
    "#### Congratulations! Now you have finished the preparation of the dataset!"
   ]
  },
  {
   "cell_type": "markdown",
   "metadata": {
    "id": "KVqRBhb_t_AE"
   },
   "source": [
    "# Bonus Challenge 1\n",
    "\n",
    "#### While the above is the common practice to prepare most datasets, when it comes to time series data, we sometimes do not want to randomly select rows from our dataset.\n",
    "\n",
    "This is because many time series algorithms rely on observations having equal time distances between them. In such cases, we typically select the majority of rows as the test data and the last few rows as the training data. We don't use `train_test_split()` to select the train/test data because it returns random selections.\n",
    "\n",
    "In the following cell, compute the number of rows that account for 80% of our data and round it to the next integer. Assign this number to `ts_rows`."
   ]
  },
  {
   "cell_type": "code",
   "execution_count": 41,
   "metadata": {
    "colab": {
     "base_uri": "https://localhost:8080/"
    },
    "executionInfo": {
     "elapsed": 164,
     "status": "ok",
     "timestamp": 1627411764466,
     "user": {
      "displayName": "irving palacios",
      "photoUrl": "https://lh3.googleusercontent.com/a-/AOh14Gjw6M4LpzTUVro1G-5_aqYZYQhXb8NkvR-4cdiB=s64",
      "userId": "06814234566595318222"
     },
     "user_tz": 300
    },
    "id": "FdG1HBlTt_AE",
    "outputId": "d1947449-ceb8-4a45-ca55-08661e4bd633"
   },
   "outputs": [
    {
     "data": {
      "text/plain": [
       "1056"
      ]
     },
     "execution_count": 41,
     "metadata": {},
     "output_type": "execute_result"
    }
   ],
   "source": [
    "# Your code here:\n",
    "\n",
    "ts_rows = int(len(austin_fixed)*0.8+1)\n",
    "ts_rows"
   ]
  },
  {
   "cell_type": "markdown",
   "metadata": {
    "id": "TPcOahest_AE"
   },
   "source": [
    "Assign the first `ts_rows` rows of `X` to `X_ts_train` and the remaining rows to `X_ts_test`."
   ]
  },
  {
   "cell_type": "code",
   "execution_count": 42,
   "metadata": {
    "executionInfo": {
     "elapsed": 142,
     "status": "ok",
     "timestamp": 1627411915041,
     "user": {
      "displayName": "irving palacios",
      "photoUrl": "https://lh3.googleusercontent.com/a-/AOh14Gjw6M4LpzTUVro1G-5_aqYZYQhXb8NkvR-4cdiB=s64",
      "userId": "06814234566595318222"
     },
     "user_tz": 300
    },
    "id": "kFW5EB6xt_AE"
   },
   "outputs": [],
   "source": [
    "# Your code here:\n",
    "X_ts_train = X[:ts_rows]\n",
    "X_ts_test = X[ts_rows:]"
   ]
  },
  {
   "cell_type": "code",
   "execution_count": 43,
   "metadata": {
    "colab": {
     "base_uri": "https://localhost:8080/"
    },
    "executionInfo": {
     "elapsed": 140,
     "status": "ok",
     "timestamp": 1627411929976,
     "user": {
      "displayName": "irving palacios",
      "photoUrl": "https://lh3.googleusercontent.com/a-/AOh14Gjw6M4LpzTUVro1G-5_aqYZYQhXb8NkvR-4cdiB=s64",
      "userId": "06814234566595318222"
     },
     "user_tz": 300
    },
    "id": "ILhJUpcJTkwn",
    "outputId": "d9611495-2114-4964-90ae-8630411f9dc7"
   },
   "outputs": [
    {
     "data": {
      "text/plain": [
       "(1056, 22)"
      ]
     },
     "execution_count": 43,
     "metadata": {},
     "output_type": "execute_result"
    }
   ],
   "source": [
    "X_ts_train.shape"
   ]
  },
  {
   "cell_type": "markdown",
   "metadata": {
    "id": "iQJqVg6lt_AI"
   },
   "source": [
    "Assign the first `ts_rows` rows of `y` to `y_ts_train` and the remaining rows to `y_ts_test`."
   ]
  },
  {
   "cell_type": "code",
   "execution_count": 44,
   "metadata": {
    "executionInfo": {
     "elapsed": 162,
     "status": "ok",
     "timestamp": 1627411992980,
     "user": {
      "displayName": "irving palacios",
      "photoUrl": "https://lh3.googleusercontent.com/a-/AOh14Gjw6M4LpzTUVro1G-5_aqYZYQhXb8NkvR-4cdiB=s64",
      "userId": "06814234566595318222"
     },
     "user_tz": 300
    },
    "id": "wTrYBh-rt_AI"
   },
   "outputs": [],
   "source": [
    "# Your code here:\n",
    "\n",
    "y_ts_train = y[:ts_rows]\n",
    "y_ts_test = y[ts_rows:]"
   ]
  },
  {
   "cell_type": "markdown",
   "metadata": {
    "id": "z1BlWAsrt_AI"
   },
   "source": [
    "# Bonus Challenge 2\n",
    "\n",
    "As explained in the README, the main purpose of this lab is to show you the typical process of preparing data for machine learning which sometimes takes up 90% of your time. Data cleaning is a valuable skill to learn and you need to be proficient at various techniques including the ones we showed you above as well as others you'll learn in the future. In the real world this skill will help you perform your job successfully and efficiently.\n",
    "\n",
    "Now that we're done with data praparation, if you want to expeirence what you'll do in the rest 10% of your time, let's make the final leap.\n",
    "\n",
    "We will use scikit-learn's [*Support Vector Machines*](https://scikit-learn.org/stable/modules/svm.html) to compute the fit of our training data set, the test on our test data set.\n",
    "\n",
    "#### In the cell below, import `svm` from `sklearn`:"
   ]
  },
  {
   "cell_type": "code",
   "execution_count": 45,
   "metadata": {
    "executionInfo": {
     "elapsed": 113,
     "status": "ok",
     "timestamp": 1627412325235,
     "user": {
      "displayName": "irving palacios",
      "photoUrl": "https://lh3.googleusercontent.com/a-/AOh14Gjw6M4LpzTUVro1G-5_aqYZYQhXb8NkvR-4cdiB=s64",
      "userId": "06814234566595318222"
     },
     "user_tz": 300
    },
    "id": "MXVw-1gpt_AJ"
   },
   "outputs": [],
   "source": [
    "# Your code here\n",
    "\n",
    "from sklearn import svm"
   ]
  },
  {
   "cell_type": "markdown",
   "metadata": {
    "id": "loanxZRyt_AJ"
   },
   "source": [
    "#### Now, call `svm.SVC.fit()` on `X_train` and `y_train`. Assign the returned value to a variable called `clf` which stands for *classifier*. Then obtain the test score for `X_test` and `y_test` by calling `clf.score()`."
   ]
  },
  {
   "cell_type": "code",
   "execution_count": 46,
   "metadata": {
    "colab": {
     "base_uri": "https://localhost:8080/"
    },
    "executionInfo": {
     "elapsed": 353,
     "status": "ok",
     "timestamp": 1627412522781,
     "user": {
      "displayName": "irving palacios",
      "photoUrl": "https://lh3.googleusercontent.com/a-/AOh14Gjw6M4LpzTUVro1G-5_aqYZYQhXb8NkvR-4cdiB=s64",
      "userId": "06814234566595318222"
     },
     "user_tz": 300
    },
    "id": "iJ_0cer5t_AJ",
    "outputId": "1cdd87cb-3df6-4786-a617-d843017af019"
   },
   "outputs": [
    {
     "data": {
      "text/plain": [
       "0.041666666666666664"
      ]
     },
     "execution_count": 46,
     "metadata": {},
     "output_type": "execute_result"
    }
   ],
   "source": [
    "# Your code here\n",
    "\n",
    "clf = svm.SVC().fit(X_train, y_train)\n",
    "clf.score(X_test,y_test)"
   ]
  },
  {
   "cell_type": "markdown",
   "metadata": {
    "id": "xjAtNmSpt_AJ"
   },
   "source": [
    "#### You now see the model fit score of your test data set. If it's extremely low, it means your selected model is not a good fit and you should try other models.\n",
    "\n",
    "#### In addition to fitting `X_train`, `y_train`, `X_test`, and `y_test`, you can also fit `X_ts_train`, `y_ts_train`, `X_ts_test`, and `y_ts_test` if you completed Bonus Challenge 1."
   ]
  },
  {
   "cell_type": "code",
   "execution_count": 47,
   "metadata": {
    "colab": {
     "base_uri": "https://localhost:8080/"
    },
    "executionInfo": {
     "elapsed": 218,
     "status": "ok",
     "timestamp": 1627412637258,
     "user": {
      "displayName": "irving palacios",
      "photoUrl": "https://lh3.googleusercontent.com/a-/AOh14Gjw6M4LpzTUVro1G-5_aqYZYQhXb8NkvR-4cdiB=s64",
      "userId": "06814234566595318222"
     },
     "user_tz": 300
    },
    "id": "gNNNolCEt_AJ",
    "outputId": "7aaa00eb-1878-4a90-f53b-c64d0c0c2d58"
   },
   "outputs": [
    {
     "data": {
      "text/plain": [
       "0.015209125475285171"
      ]
     },
     "execution_count": 47,
     "metadata": {},
     "output_type": "execute_result"
    }
   ],
   "source": [
    "# Your code here\n",
    "\n",
    "clf = svm.SVC().fit(X_ts_train, y_ts_train)\n",
    "clf.score(X_ts_test,y_ts_test)"
   ]
  },
  {
   "cell_type": "markdown",
   "metadata": {
    "id": "ySdnPrnat_AJ"
   },
   "source": [
    "#### We hope you have learned a lot of useful stuff in this lab!"
   ]
  }
 ],
 "metadata": {
  "colab": {
   "collapsed_sections": [
    "_uJvavdrt-_7",
    "7KEgmpcot_AC",
    "dy10VB3jt_AE",
    "ySdnPrnat_AJ"
   ],
   "name": "main.ipynb",
   "provenance": []
  },
  "kernelspec": {
   "display_name": "Python 3",
   "language": "python",
   "name": "python3"
  },
  "language_info": {
   "codemirror_mode": {
    "name": "ipython",
    "version": 3
   },
   "file_extension": ".py",
   "mimetype": "text/x-python",
   "name": "python",
   "nbconvert_exporter": "python",
   "pygments_lexer": "ipython3",
   "version": "3.8.5"
  }
 },
 "nbformat": 4,
 "nbformat_minor": 1
}
